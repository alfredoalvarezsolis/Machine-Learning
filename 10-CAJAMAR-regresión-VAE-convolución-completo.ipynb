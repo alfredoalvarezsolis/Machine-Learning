{
 "cells": [
  {
   "cell_type": "code",
   "execution_count": 1,
   "metadata": {},
   "outputs": [
    {
     "name": "stderr",
     "output_type": "stream",
     "text": [
      "C:\\Users\\roberto\\Anaconda3\\lib\\site-packages\\h5py\\__init__.py:36: FutureWarning: Conversion of the second argument of issubdtype from `float` to `np.floating` is deprecated. In future, it will be treated as `np.float64 == np.dtype(float).type`.\n",
      "  from ._conv import register_converters as _register_converters\n",
      "Using TensorFlow backend.\n"
     ]
    }
   ],
   "source": [
    "from keras.models import Sequential, Model, load_model\n",
    "from keras import layers\n",
    "from keras.layers import Dropout\n",
    "from keras.callbacks import EarlyStopping, ModelCheckpoint,ReduceLROnPlateau\n",
    "from keras.optimizers import adam, RMSprop\n",
    "import keras.backend as K\n",
    "from keras.callbacks import TensorBoard\n",
    "from time import time\n",
    "import tensorflow as tf\n",
    "from keras.layers import Dense, Input, Lambda, LeakyReLU\n",
    "from keras.layers import Dropout\n",
    "from keras.objectives import binary_crossentropy, mse\n",
    "import keras.backend as K\n",
    "from keras import metrics\n",
    "import h5py\n",
    "import numpy as np\n",
    "import pandas as pd\n",
    "import matplotlib.pyplot as plt\n",
    "import os\n",
    "import glob\n",
    "import cv2\n",
    "from sklearn.model_selection import train_test_split\n",
    "from sklearn.preprocessing import StandardScaler\n",
    "from sklearn.metrics import confusion_matrix, precision_score, recall_score, f1_score, cohen_kappa_score, accuracy_score\n",
    "from keras.utils import to_categorical\n",
    "from keras.metrics import mae\n",
    "from sklearn.preprocessing import LabelEncoder\n",
    "\n",
    "from keras.preprocessing.image import ImageDataGenerator, load_img, img_to_array\n",
    "import sys\n",
    "from tqdm import tqdm_notebook\n",
    "from skimage.io import imread, imshow, concatenate_images\n",
    "from skimage.transform import resize\n",
    "from skimage.morphology import label\n",
    "from skimage import exposure\n",
    "from skimage import io\n",
    "import imageio\n",
    "from skimage.color import rgb2gray\n",
    "from skimage import exposure\n",
    "import random\n",
    "import warnings\n",
    "\n",
    "from sklearn.metrics import median_absolute_error\n",
    "from keras.applications import VGG16, VGG19, InceptionV3, MobileNet\n",
    "\n",
    "from keras.models import Model, load_model,Sequential\n",
    "from keras.layers import Input,LeakyReLU,RepeatVector,Reshape, Activation\n",
    "from keras.layers.core import Lambda\n",
    "from keras.layers.convolutional import Conv2D, Conv2DTranspose\n",
    "from keras.layers.pooling import MaxPooling2D\n",
    "from keras.layers.merge import concatenate\n",
    "from keras.callbacks import EarlyStopping, ModelCheckpoint,ReduceLROnPlateau\n",
    "from keras.layers import Dense, Dropout, Flatten\n",
    "from keras import backend as K\n",
    "from keras import optimizers\n",
    "from keras.layers.normalization import BatchNormalization\n",
    "from keras.layers import Activation, Dropout, BatchNormalization, Flatten, Reshape, Dense, Input, Lambda, Conv2D, MaxPooling2D, GlobalAveragePooling2D\n",
    "from keras.layers import concatenate, merge, Input, UpSampling2D, MaxPooling2D, GlobalAveragePooling3D, Conv2DTranspose\n"
   ]
  },
  {
   "cell_type": "code",
   "execution_count": 2,
   "metadata": {},
   "outputs": [],
   "source": [
    "data = pd.read_csv(\"D:/MBIT-2017-18-Master-Deep-Learning/Reto - Cajamar - Febrero 2019/Datasets_Reto_Modelling_UH2019/Modelar_UH2019.txt\", sep='|',decimal=\".\")\n"
   ]
  },
  {
   "cell_type": "code",
   "execution_count": 3,
   "metadata": {},
   "outputs": [
    {
     "name": "stdout",
     "output_type": "stream",
     "text": [
      "(9958, 53)\n"
     ]
    }
   ],
   "source": [
    "print(data.shape)"
   ]
  },
  {
   "cell_type": "code",
   "execution_count": 4,
   "metadata": {},
   "outputs": [
    {
     "data": {
      "text/html": [
       "<div>\n",
       "<style scoped>\n",
       "    .dataframe tbody tr th:only-of-type {\n",
       "        vertical-align: middle;\n",
       "    }\n",
       "\n",
       "    .dataframe tbody tr th {\n",
       "        vertical-align: top;\n",
       "    }\n",
       "\n",
       "    .dataframe thead th {\n",
       "        text-align: right;\n",
       "    }\n",
       "</style>\n",
       "<table border=\"1\" class=\"dataframe\">\n",
       "  <thead>\n",
       "    <tr style=\"text-align: right;\">\n",
       "      <th></th>\n",
       "      <th>HY_id</th>\n",
       "      <th>HY_cod_postal</th>\n",
       "      <th>HY_provincia</th>\n",
       "      <th>HY_descripcion</th>\n",
       "      <th>HY_distribucion</th>\n",
       "      <th>HY_tipo</th>\n",
       "      <th>HY_antiguedad</th>\n",
       "      <th>HY_metros_utiles</th>\n",
       "      <th>HY_metros_totales</th>\n",
       "      <th>HY_num_banos</th>\n",
       "      <th>...</th>\n",
       "      <th>IDEA_unitprice_rent_residential</th>\n",
       "      <th>IDEA_price_rent_residential</th>\n",
       "      <th>IDEA_stock_rent_residential</th>\n",
       "      <th>IDEA_demand_rent_residential</th>\n",
       "      <th>GA_page_views</th>\n",
       "      <th>GA_mean_bounce</th>\n",
       "      <th>GA_exit_rate</th>\n",
       "      <th>GA_quincena_ini</th>\n",
       "      <th>GA_quincena_ult</th>\n",
       "      <th>TARGET</th>\n",
       "    </tr>\n",
       "  </thead>\n",
       "  <tbody>\n",
       "    <tr>\n",
       "      <th>0</th>\n",
       "      <td>6028499</td>\n",
       "      <td>18151</td>\n",
       "      <td>Granada</td>\n",
       "      <td>Plaza de Garaje ubicada en la planta sótano de...</td>\n",
       "      <td>NaN</td>\n",
       "      <td>Garaje</td>\n",
       "      <td>NaN</td>\n",
       "      <td>NaN</td>\n",
       "      <td>35.00</td>\n",
       "      <td>0</td>\n",
       "      <td>...</td>\n",
       "      <td>5.09</td>\n",
       "      <td>626.38</td>\n",
       "      <td>237.0</td>\n",
       "      <td>51.01</td>\n",
       "      <td>71</td>\n",
       "      <td>7.14</td>\n",
       "      <td>10.65</td>\n",
       "      <td>2</td>\n",
       "      <td>46</td>\n",
       "      <td>32.16</td>\n",
       "    </tr>\n",
       "    <tr>\n",
       "      <th>1</th>\n",
       "      <td>6028500</td>\n",
       "      <td>29915</td>\n",
       "      <td>Málaga</td>\n",
       "      <td>NaN</td>\n",
       "      <td>NaN</td>\n",
       "      <td>Casa de pueblo</td>\n",
       "      <td>NaN</td>\n",
       "      <td>NaN</td>\n",
       "      <td>151.98</td>\n",
       "      <td>2</td>\n",
       "      <td>...</td>\n",
       "      <td>4.08</td>\n",
       "      <td>700.00</td>\n",
       "      <td>6.0</td>\n",
       "      <td>50.69</td>\n",
       "      <td>684</td>\n",
       "      <td>16.36</td>\n",
       "      <td>5.25</td>\n",
       "      <td>1</td>\n",
       "      <td>47</td>\n",
       "      <td>30.71</td>\n",
       "    </tr>\n",
       "    <tr>\n",
       "      <th>2</th>\n",
       "      <td>6028502</td>\n",
       "      <td>3740</td>\n",
       "      <td>Alicante</td>\n",
       "      <td>El inmueble(piso) se encuentra situado en el d...</td>\n",
       "      <td>VIVIENDA-PISO</td>\n",
       "      <td>Piso</td>\n",
       "      <td>2008.0</td>\n",
       "      <td>92.58</td>\n",
       "      <td>102.78</td>\n",
       "      <td>1</td>\n",
       "      <td>...</td>\n",
       "      <td>4.43</td>\n",
       "      <td>525.00</td>\n",
       "      <td>15.0</td>\n",
       "      <td>51.82</td>\n",
       "      <td>651</td>\n",
       "      <td>15.12</td>\n",
       "      <td>11.21</td>\n",
       "      <td>1</td>\n",
       "      <td>47</td>\n",
       "      <td>63.48</td>\n",
       "    </tr>\n",
       "    <tr>\n",
       "      <th>3</th>\n",
       "      <td>6028512</td>\n",
       "      <td>30592</td>\n",
       "      <td>Murcia</td>\n",
       "      <td>Plaza de garaje situada en la planta semisótan...</td>\n",
       "      <td>NaN</td>\n",
       "      <td>Garaje</td>\n",
       "      <td>NaN</td>\n",
       "      <td>11.81</td>\n",
       "      <td>12.46</td>\n",
       "      <td>0</td>\n",
       "      <td>...</td>\n",
       "      <td>5.03</td>\n",
       "      <td>863.17</td>\n",
       "      <td>168.0</td>\n",
       "      <td>50.74</td>\n",
       "      <td>92</td>\n",
       "      <td>15.82</td>\n",
       "      <td>14.55</td>\n",
       "      <td>2</td>\n",
       "      <td>47</td>\n",
       "      <td>108.27</td>\n",
       "    </tr>\n",
       "    <tr>\n",
       "      <th>4</th>\n",
       "      <td>6028513</td>\n",
       "      <td>30592</td>\n",
       "      <td>Murcia</td>\n",
       "      <td>Plaza de garaje situada en la planta semisótan...</td>\n",
       "      <td>NaN</td>\n",
       "      <td>Garaje</td>\n",
       "      <td>NaN</td>\n",
       "      <td>14.29</td>\n",
       "      <td>15.43</td>\n",
       "      <td>0</td>\n",
       "      <td>...</td>\n",
       "      <td>5.03</td>\n",
       "      <td>863.17</td>\n",
       "      <td>168.0</td>\n",
       "      <td>50.74</td>\n",
       "      <td>3</td>\n",
       "      <td>0.00</td>\n",
       "      <td>0.00</td>\n",
       "      <td>2</td>\n",
       "      <td>39</td>\n",
       "      <td>7.50</td>\n",
       "    </tr>\n",
       "  </tbody>\n",
       "</table>\n",
       "<p>5 rows × 53 columns</p>\n",
       "</div>"
      ],
      "text/plain": [
       "     HY_id  HY_cod_postal HY_provincia  \\\n",
       "0  6028499          18151      Granada   \n",
       "1  6028500          29915       Málaga   \n",
       "2  6028502           3740     Alicante   \n",
       "3  6028512          30592       Murcia   \n",
       "4  6028513          30592       Murcia   \n",
       "\n",
       "                                      HY_descripcion HY_distribucion  \\\n",
       "0  Plaza de Garaje ubicada en la planta sótano de...             NaN   \n",
       "1                                                NaN             NaN   \n",
       "2  El inmueble(piso) se encuentra situado en el d...   VIVIENDA-PISO   \n",
       "3  Plaza de garaje situada en la planta semisótan...             NaN   \n",
       "4  Plaza de garaje situada en la planta semisótan...             NaN   \n",
       "\n",
       "          HY_tipo  HY_antiguedad  HY_metros_utiles  HY_metros_totales  \\\n",
       "0          Garaje            NaN               NaN              35.00   \n",
       "1  Casa de pueblo            NaN               NaN             151.98   \n",
       "2            Piso         2008.0             92.58             102.78   \n",
       "3          Garaje            NaN             11.81              12.46   \n",
       "4          Garaje            NaN             14.29              15.43   \n",
       "\n",
       "   HY_num_banos   ...   IDEA_unitprice_rent_residential  \\\n",
       "0             0   ...                              5.09   \n",
       "1             2   ...                              4.08   \n",
       "2             1   ...                              4.43   \n",
       "3             0   ...                              5.03   \n",
       "4             0   ...                              5.03   \n",
       "\n",
       "   IDEA_price_rent_residential  IDEA_stock_rent_residential  \\\n",
       "0                       626.38                        237.0   \n",
       "1                       700.00                          6.0   \n",
       "2                       525.00                         15.0   \n",
       "3                       863.17                        168.0   \n",
       "4                       863.17                        168.0   \n",
       "\n",
       "   IDEA_demand_rent_residential  GA_page_views  GA_mean_bounce  GA_exit_rate  \\\n",
       "0                         51.01             71            7.14         10.65   \n",
       "1                         50.69            684           16.36          5.25   \n",
       "2                         51.82            651           15.12         11.21   \n",
       "3                         50.74             92           15.82         14.55   \n",
       "4                         50.74              3            0.00          0.00   \n",
       "\n",
       "   GA_quincena_ini  GA_quincena_ult  TARGET  \n",
       "0                2               46   32.16  \n",
       "1                1               47   30.71  \n",
       "2                1               47   63.48  \n",
       "3                2               47  108.27  \n",
       "4                2               39    7.50  \n",
       "\n",
       "[5 rows x 53 columns]"
      ]
     },
     "execution_count": 4,
     "metadata": {},
     "output_type": "execute_result"
    }
   ],
   "source": [
    "data.head()"
   ]
  },
  {
   "cell_type": "code",
   "execution_count": 5,
   "metadata": {},
   "outputs": [
    {
     "name": "stdout",
     "output_type": "stream",
     "text": [
      "HY_id                                 0\n",
      "HY_cod_postal                         0\n",
      "HY_provincia                         42\n",
      "HY_descripcion                     3942\n",
      "HY_distribucion                    6745\n",
      "HY_tipo                               0\n",
      "HY_antiguedad                      5484\n",
      "HY_metros_utiles                   2886\n",
      "HY_metros_totales                    34\n",
      "HY_num_banos                         14\n",
      "HY_cert_energ                      8300\n",
      "HY_num_terrazas                      48\n",
      "HY_ascensor                          30\n",
      "HY_trastero                          44\n",
      "HY_num_garajes                       40\n",
      "HY_precio                             1\n",
      "HY_precio_anterior                 3158\n",
      "IDEA_area                          2631\n",
      "IDEA_poblacion                     2635\n",
      "IDEA_densidad                      2635\n",
      "IDEA_pc_1960                       2716\n",
      "IDEA_pc_1960_69                    2716\n",
      "IDEA_pc_1970_79                    2712\n",
      "IDEA_pc_1980_89                    2711\n",
      "IDEA_pc_1990_99                    2711\n",
      "IDEA_pc_2000_10                    2710\n",
      "IDEA_pc_comercio                   2715\n",
      "IDEA_pc_industria                  2732\n",
      "IDEA_pc_oficina                    2736\n",
      "IDEA_pc_otros                      2710\n",
      "IDEA_pc_residencial                2710\n",
      "IDEA_pc_trast_parking              2710\n",
      "IDEA_ind_tienda                    2736\n",
      "IDEA_ind_turismo                   2739\n",
      "IDEA_ind_alimentacion              2737\n",
      "IDEA_ind_riqueza                   2631\n",
      "IDEA_rent_alquiler                 3062\n",
      "IDEA_ind_elasticidad               5106\n",
      "IDEA_ind_liquidez                  5131\n",
      "IDEA_unitprice_sale_residential    2635\n",
      "IDEA_price_sale_residential        2635\n",
      "IDEA_stock_sale_residential        2635\n",
      "IDEA_demand_sale_residential       2636\n",
      "IDEA_unitprice_rent_residential    2998\n",
      "IDEA_price_rent_residential        2998\n",
      "IDEA_stock_rent_residential        2998\n",
      "IDEA_demand_rent_residential       2643\n",
      "GA_page_views                         0\n",
      "GA_mean_bounce                        8\n",
      "GA_exit_rate                          2\n",
      "GA_quincena_ini                       0\n",
      "GA_quincena_ult                       0\n",
      "TARGET                                0\n",
      "dtype: int64\n"
     ]
    }
   ],
   "source": [
    "data.iloc[1:51] = data.iloc[1:51].replace(0, np.NaN)\n",
    "print(data.isnull().sum())"
   ]
  },
  {
   "cell_type": "code",
   "execution_count": 6,
   "metadata": {},
   "outputs": [],
   "source": [
    "data.HY_provincia = data.HY_cod_postal // 1000"
   ]
  },
  {
   "cell_type": "code",
   "execution_count": 7,
   "metadata": {},
   "outputs": [
    {
     "data": {
      "text/plain": [
       "0    18\n",
       "1    29\n",
       "2     3\n",
       "3    30\n",
       "4    30\n",
       "Name: HY_provincia, dtype: int64"
      ]
     },
     "execution_count": 7,
     "metadata": {},
     "output_type": "execute_result"
    }
   ],
   "source": [
    "data.HY_provincia.head()"
   ]
  },
  {
   "cell_type": "code",
   "execution_count": 8,
   "metadata": {},
   "outputs": [],
   "source": [
    "data.HY_metros_totales.fillna(data.HY_metros_totales.mean(), inplace=True)"
   ]
  },
  {
   "cell_type": "code",
   "execution_count": 9,
   "metadata": {},
   "outputs": [],
   "source": [
    "data.HY_metros_utiles.fillna((data.HY_metros_totales * data.HY_metros_utiles.mean() / data.HY_metros_totales.mean()), inplace=True)"
   ]
  },
  {
   "cell_type": "code",
   "execution_count": 10,
   "metadata": {},
   "outputs": [],
   "source": [
    "data.HY_num_banos.fillna(0, inplace=True)\n",
    "data.HY_num_terrazas.fillna(0, inplace=True)\n",
    "data.HY_ascensor.fillna(0, inplace=True)\n",
    "data.HY_trastero.fillna(0, inplace=True)\n",
    "data.HY_num_garajes.fillna(0, inplace=True)\n",
    "data.HY_precio.fillna(0, inplace=True)                           "
   ]
  },
  {
   "cell_type": "code",
   "execution_count": 11,
   "metadata": {},
   "outputs": [],
   "source": [
    "data.HY_precio_anterior.fillna(data.HY_precio, inplace=True)"
   ]
  },
  {
   "cell_type": "code",
   "execution_count": 12,
   "metadata": {},
   "outputs": [],
   "source": [
    "data.GA_mean_bounce.fillna(data.GA_mean_bounce.mean(), inplace=True)\n",
    "data.GA_exit_rate.fillna(data.GA_exit_rate.mean(), inplace=True)"
   ]
  },
  {
   "cell_type": "code",
   "execution_count": 13,
   "metadata": {},
   "outputs": [],
   "source": [
    "data.IDEA_ind_elasticidad.fillna(0, inplace=True)"
   ]
  },
  {
   "cell_type": "code",
   "execution_count": 14,
   "metadata": {},
   "outputs": [],
   "source": [
    "data.IDEA_area.fillna(data.IDEA_area.mean(),inplace=True)\n",
    "data.IDEA_poblacion.fillna(data.IDEA_poblacion.mean(),inplace=True)\n",
    "data.IDEA_densidad.fillna(data.IDEA_densidad.mean(), inplace=True)\n",
    "data.IDEA_pc_1960.fillna(data.IDEA_pc_1960.mean(), inplace=True)\n",
    "data.IDEA_pc_1960_69.fillna(data.IDEA_pc_1960_69.mean(), inplace=True)\n",
    "data.IDEA_pc_1970_79.fillna(data.IDEA_pc_1970_79.mean(), inplace=True)\n",
    "data.IDEA_pc_1980_89.fillna(data.IDEA_pc_1980_89.mean(), inplace=True)\n",
    "data.IDEA_pc_1990_99.fillna(data.IDEA_pc_1990_99.mean(), inplace=True)\n",
    "data.IDEA_pc_2000_10.fillna(data.IDEA_pc_2000_10.mean(), inplace=True)\n",
    "data.IDEA_pc_comercio.fillna(data.IDEA_pc_comercio.mean(), inplace=True)\n",
    "data.IDEA_pc_industria.fillna(data.IDEA_pc_industria.mean(), inplace=True)\n",
    "data.IDEA_pc_oficina.fillna(data.IDEA_pc_oficina.mean(), inplace=True)\n",
    "data.IDEA_pc_otros.fillna(data.IDEA_pc_otros.mean(), inplace=True)\n",
    "data.IDEA_pc_residencial.fillna(data.IDEA_pc_residencial.mean(), inplace=True)\n",
    "data.IDEA_pc_trast_parking.fillna(data.IDEA_pc_trast_parking.mean(), inplace=True)\n",
    "data.IDEA_ind_tienda.fillna(data.IDEA_ind_tienda.mean(), inplace=True)\n",
    "data.IDEA_ind_turismo.fillna(data.IDEA_ind_turismo.mean(), inplace=True)\n",
    "data.IDEA_ind_alimentacion.fillna(data.IDEA_ind_alimentacion.mean(), inplace=True)\n",
    "data.IDEA_ind_riqueza.fillna(data.IDEA_ind_riqueza.mean(), inplace=True)\n",
    "data.IDEA_rent_alquiler.fillna(data.IDEA_rent_alquiler.mean(), inplace=True)\n",
    "data.IDEA_ind_liquidez.fillna(data.IDEA_ind_liquidez.mean(), inplace=True)\n",
    "data.IDEA_unitprice_sale_residential.fillna(data.IDEA_unitprice_sale_residential.mean(), inplace=True)\n",
    "data.IDEA_price_sale_residential.fillna(data.IDEA_price_sale_residential.mean(), inplace=True)\n",
    "data.IDEA_stock_sale_residential.fillna(data.IDEA_stock_sale_residential.mean(), inplace=True)\n",
    "data.IDEA_demand_sale_residential.fillna(data.IDEA_demand_sale_residential.mean(), inplace=True)\n",
    "data.IDEA_unitprice_rent_residential.fillna(data.IDEA_unitprice_rent_residential.mean(), inplace=True)\n",
    "data.IDEA_price_rent_residential.fillna(data.IDEA_price_rent_residential.mean(), inplace=True)\n",
    "data.IDEA_stock_rent_residential.fillna(data.IDEA_stock_rent_residential.mean(), inplace=True)\n",
    "data.IDEA_demand_rent_residential.fillna(data.IDEA_demand_rent_residential.mean(), inplace=True)"
   ]
  },
  {
   "cell_type": "code",
   "execution_count": 15,
   "metadata": {},
   "outputs": [],
   "source": [
    "data.HY_cert_energ.fillna(0, inplace=True)\n",
    "data.loc[(data['HY_cert_energ'] != 0),'HY_cert_energ'] = 1"
   ]
  },
  {
   "cell_type": "code",
   "execution_count": 16,
   "metadata": {},
   "outputs": [
    {
     "name": "stdout",
     "output_type": "stream",
     "text": [
      "HY_id                                 0\n",
      "HY_cod_postal                         0\n",
      "HY_provincia                          0\n",
      "HY_descripcion                     3942\n",
      "HY_distribucion                    6745\n",
      "HY_tipo                               0\n",
      "HY_antiguedad                      5484\n",
      "HY_metros_utiles                      0\n",
      "HY_metros_totales                     0\n",
      "HY_num_banos                          0\n",
      "HY_cert_energ                         0\n",
      "HY_num_terrazas                       0\n",
      "HY_ascensor                           0\n",
      "HY_trastero                           0\n",
      "HY_num_garajes                        0\n",
      "HY_precio                             0\n",
      "HY_precio_anterior                    0\n",
      "IDEA_area                             0\n",
      "IDEA_poblacion                        0\n",
      "IDEA_densidad                         0\n",
      "IDEA_pc_1960                          0\n",
      "IDEA_pc_1960_69                       0\n",
      "IDEA_pc_1970_79                       0\n",
      "IDEA_pc_1980_89                       0\n",
      "IDEA_pc_1990_99                       0\n",
      "IDEA_pc_2000_10                       0\n",
      "IDEA_pc_comercio                      0\n",
      "IDEA_pc_industria                     0\n",
      "IDEA_pc_oficina                       0\n",
      "IDEA_pc_otros                         0\n",
      "IDEA_pc_residencial                   0\n",
      "IDEA_pc_trast_parking                 0\n",
      "IDEA_ind_tienda                       0\n",
      "IDEA_ind_turismo                      0\n",
      "IDEA_ind_alimentacion                 0\n",
      "IDEA_ind_riqueza                      0\n",
      "IDEA_rent_alquiler                    0\n",
      "IDEA_ind_elasticidad                  0\n",
      "IDEA_ind_liquidez                     0\n",
      "IDEA_unitprice_sale_residential       0\n",
      "IDEA_price_sale_residential           0\n",
      "IDEA_stock_sale_residential           0\n",
      "IDEA_demand_sale_residential          0\n",
      "IDEA_unitprice_rent_residential       0\n",
      "IDEA_price_rent_residential           0\n",
      "IDEA_stock_rent_residential           0\n",
      "IDEA_demand_rent_residential          0\n",
      "GA_page_views                         0\n",
      "GA_mean_bounce                        0\n",
      "GA_exit_rate                          0\n",
      "GA_quincena_ini                       0\n",
      "GA_quincena_ult                       0\n",
      "TARGET                                0\n",
      "dtype: int64\n"
     ]
    }
   ],
   "source": [
    "print(data.isnull().sum())"
   ]
  },
  {
   "cell_type": "code",
   "execution_count": 17,
   "metadata": {},
   "outputs": [
    {
     "data": {
      "text/plain": [
       "Piso                            4182\n",
       "Garaje                          2761\n",
       "Local                            827\n",
       "Casa de pueblo                   557\n",
       "Chalet adosado                   433\n",
       "Trastero                         282\n",
       "Chalet independiente             209\n",
       "Solar                            198\n",
       "Dúplex                           184\n",
       "Nave adosada                     130\n",
       "Oficina                          103\n",
       "Nave aislada                      38\n",
       "Edificio turístico                17\n",
       "Otro                              12\n",
       "Chalet pareado                     9\n",
       "Ático                              8\n",
       "Almacén                            3\n",
       "Edificio comercial                 2\n",
       "Suelo rústico no urbanizable       2\n",
       "Aparcamiento                       1\n",
       "Name: HY_tipo, dtype: int64"
      ]
     },
     "execution_count": 17,
     "metadata": {},
     "output_type": "execute_result"
    }
   ],
   "source": [
    "data['HY_tipo'].value_counts()"
   ]
  },
  {
   "cell_type": "markdown",
   "metadata": {},
   "source": [
    "# Separación por tipología del inmueble (viviendas / otros)"
   ]
  },
  {
   "cell_type": "code",
   "execution_count": 18,
   "metadata": {},
   "outputs": [],
   "source": [
    "#data = data.loc[(data['HY_tipo'] == 'Casa de pueblo') | (data['HY_tipo'] == 'Chalet adosado') | (data['HY_tipo'] == 'Chalet independiente') | (data['HY_tipo'] == 'Chalet pareado') | (data['HY_tipo'] == 'Dúplex') | (data['HY_tipo'] == 'Ático') | (data['HY_tipo'] == 'Piso')]\n",
    "#data = data.loc[(data['HY_tipo'] == 'Garaje') | (data['HY_tipo'] == 'Local') | (data['HY_tipo'] == 'Nave adosada') | (data['HY_tipo'] == 'Solar') | (data['HY_tipo'] == 'Trastero')]\n",
    "#data = data.loc[(data['HY_tipo'] == 'Garaje')]"
   ]
  },
  {
   "cell_type": "markdown",
   "metadata": {},
   "source": [
    "# Creación de nuevas variables para enriquecer el modelo"
   ]
  },
  {
   "cell_type": "code",
   "execution_count": 19,
   "metadata": {},
   "outputs": [],
   "source": [
    "precio_medio_cod_postal = data.groupby(\"HY_cod_postal\").agg({\"HY_precio\": \"mean\"}).reset_index().rename(\n",
    "    columns={'HY_cod_postal':'ID','HY_precio' : 'NW_precio_medio_CP'})"
   ]
  },
  {
   "cell_type": "code",
   "execution_count": 20,
   "metadata": {},
   "outputs": [
    {
     "data": {
      "text/html": [
       "<div>\n",
       "<style scoped>\n",
       "    .dataframe tbody tr th:only-of-type {\n",
       "        vertical-align: middle;\n",
       "    }\n",
       "\n",
       "    .dataframe tbody tr th {\n",
       "        vertical-align: top;\n",
       "    }\n",
       "\n",
       "    .dataframe thead th {\n",
       "        text-align: right;\n",
       "    }\n",
       "</style>\n",
       "<table border=\"1\" class=\"dataframe\">\n",
       "  <thead>\n",
       "    <tr style=\"text-align: right;\">\n",
       "      <th></th>\n",
       "      <th>ID</th>\n",
       "      <th>NW_precio_medio_CP</th>\n",
       "    </tr>\n",
       "  </thead>\n",
       "  <tbody>\n",
       "    <tr>\n",
       "      <th>0</th>\n",
       "      <td>2001</td>\n",
       "      <td>63500.000000</td>\n",
       "    </tr>\n",
       "    <tr>\n",
       "      <th>1</th>\n",
       "      <td>2006</td>\n",
       "      <td>7628.571429</td>\n",
       "    </tr>\n",
       "    <tr>\n",
       "      <th>2</th>\n",
       "      <td>2007</td>\n",
       "      <td>60600.000000</td>\n",
       "    </tr>\n",
       "    <tr>\n",
       "      <th>3</th>\n",
       "      <td>2100</td>\n",
       "      <td>101000.000000</td>\n",
       "    </tr>\n",
       "    <tr>\n",
       "      <th>4</th>\n",
       "      <td>2156</td>\n",
       "      <td>149500.000000</td>\n",
       "    </tr>\n",
       "  </tbody>\n",
       "</table>\n",
       "</div>"
      ],
      "text/plain": [
       "     ID  NW_precio_medio_CP\n",
       "0  2001        63500.000000\n",
       "1  2006         7628.571429\n",
       "2  2007        60600.000000\n",
       "3  2100       101000.000000\n",
       "4  2156       149500.000000"
      ]
     },
     "execution_count": 20,
     "metadata": {},
     "output_type": "execute_result"
    }
   ],
   "source": [
    "precio_medio_cod_postal.head()"
   ]
  },
  {
   "cell_type": "code",
   "execution_count": 21,
   "metadata": {},
   "outputs": [],
   "source": [
    "data = data.join(precio_medio_cod_postal.set_index('ID'), on='HY_cod_postal', how='left')"
   ]
  },
  {
   "cell_type": "code",
   "execution_count": 22,
   "metadata": {},
   "outputs": [],
   "source": [
    "data[\"NW_ind_precio\"] = (data.HY_precio / data.NW_precio_medio_CP)\n",
    "data[\"NW_ind_oferta\"] = ((data.HY_precio_anterior - data.HY_precio) / (data.NW_precio_medio_CP + 1))\n",
    "data[\"NW_count_descrip\"] = data['HY_descripcion'].str.split(' ').str.len()\n",
    "data.NW_ind_precio.fillna(0, inplace=True)\n",
    "data.NW_ind_oferta.fillna(0, inplace=True)\n",
    "data.NW_count_descrip.fillna(0, inplace=True)"
   ]
  },
  {
   "cell_type": "code",
   "execution_count": 23,
   "metadata": {},
   "outputs": [],
   "source": [
    "data['NW_ind_reforma'] = data['HY_descripcion'].str.count('reforma')\n",
    "data.NW_ind_reforma.fillna(0, inplace=True)\n",
    "data.loc[(data['NW_ind_reforma'] > 1),'NW_ind_reforma'] = 1"
   ]
  },
  {
   "cell_type": "code",
   "execution_count": 24,
   "metadata": {},
   "outputs": [],
   "source": [
    "word2int={'un':1,'dos':2,'tres':3,'cuatro':4,'cinco':5,'seis':6,'siete':7,'ocho':8,'nueve':9,'diez':10}\n",
    "\n",
    "for HY_tipo in ['Piso','Casa de pueblo','Chalet adosado','Chalet independiente','Dúplex','Chalet pareado','Ático']:\n",
    "    data.loc[data.loc[data['HY_tipo']==HY_tipo,'HY_descripcion'].dropna().apply(lambda x:x.split(\"dormitorio\",1)[0]).apply(lambda x:x.split(\" \")).apply(lambda x:x[-2]).str.lower().map(word2int).index,'NW_habitaciones']=data.loc[data['HY_tipo']==HY_tipo,'HY_descripcion'].dropna().apply(lambda x:x.split(\"dormitorio\",1)[0]).apply(lambda x:x.split(\" \")).apply(lambda x:x[-2]).str.lower().map(word2int)\n",
    "    \n",
    "    for element1 in pd.to_numeric(data.loc[data['HY_tipo']==HY_tipo,'HY_descripcion'].dropna().apply(lambda x:x.split(\"dormitorio\",1)[0]).apply(lambda x:x.split(\" \")).apply(lambda x:x[-2]),'coerce').dropna().index:\n",
    "        if pd.isnull(data.loc[element1,'NW_habitaciones']):\n",
    "            data.loc[element1,'NW_habitaciones']=pd.to_numeric(data.loc[data['HY_tipo']==HY_tipo,'HY_descripcion'].dropna().apply(lambda x:x.split(\"dormitorio\",1)[0]).apply(lambda x:x.split(\" \")).apply(lambda x:x[-2]),'coerce').dropna()[element1]\n",
    "\n",
    "    # data.loc[data['HY_tipo']==HY_tipo,'HY_descripcion'].dropna().apply(lambda x:x.split(\"habitacion\",1)[0]).apply(lambda x:x.split(\" \")).apply(lambda x:x[-2]).str.lower().map(word2int)\n",
    "    for element2 in data.loc[data['HY_tipo']==HY_tipo,'HY_descripcion'].dropna().apply(lambda x:x.split(\"habitacion\",1)[0]).apply(lambda x:x.split(\" \")).apply(lambda x:x[-2]).str.lower().map(word2int).index:\n",
    "        if pd.isnull(data.loc[element2,'NW_habitaciones']):\n",
    "            data.loc[element2,'NW_habitaciones']=data.loc[data['HY_tipo']==HY_tipo,'HY_descripcion'].dropna().apply(lambda x:x.split(\"habitacion\",1)[0]).apply(lambda x:x.split(\" \")).apply(lambda x:x[-2]).str.lower().map(word2int)[element2]\n",
    "\n",
    "    # pd.to_numeric(data.loc[data['HY_tipo']==HY_tipo,'HY_descripcion'].dropna().apply(lambda x:x.split(\"habitacion\",1)[0]).apply(lambda x:x.split(\" \")).apply(lambda x:x[-2]),'coerce').dropna()\n",
    "    for element3 in pd.to_numeric(data.loc[data['HY_tipo']==HY_tipo,'HY_descripcion'].dropna().apply(lambda x:x.split(\"habitacion\",1)[0]).apply(lambda x:x.split(\" \")).apply(lambda x:x[-2]),'coerce').dropna().index:\n",
    "        if pd.isnull(data.loc[element3,'NW_habitaciones']):\n",
    "            data.loc[element3,'NW_habitaciones']=pd.to_numeric(data.loc[data['HY_tipo']==HY_tipo,'HY_descripcion'].dropna().apply(lambda x:x.split(\"habitacion\",1)[0]).apply(lambda x:x.split(\" \")).apply(lambda x:x[-2]),'coerce').dropna()[element3]\n",
    "    \n",
    "    data.loc[data['HY_tipo']==HY_tipo,'NW_habitaciones']=data.loc[data['HY_tipo']==HY_tipo,'NW_habitaciones'].fillna(1)\n",
    "\n",
    "data.loc[data.loc[:,'NW_habitaciones']>9,'NW_habitaciones']=1\n",
    "data['NW_habitaciones'] = data['NW_habitaciones'].fillna(0)"
   ]
  },
  {
   "cell_type": "code",
   "execution_count": 25,
   "metadata": {},
   "outputs": [],
   "source": [
    "data_dir = 'D:/MBIT-2017-18-Master-Deep-Learning/Reto - Cajamar - Febrero 2019/imagenes_inmuebles_haya'"
   ]
  },
  {
   "cell_type": "code",
   "execution_count": 26,
   "metadata": {},
   "outputs": [
    {
     "data": {
      "text/plain": [
       "['6028499__posifoto1__qm2eBORaFws.jpg',\n",
       " '6028499__posifoto2__qm2eBhKxMHp.jpg',\n",
       " '6028499__posifoto3__qm2eAImwzo9.jpg',\n",
       " '6028499__posifoto4__qm2eAb5E1KX.jpg',\n",
       " '6028499__posifoto5__qm2eyj82lhX.jpg']"
      ]
     },
     "execution_count": 26,
     "metadata": {},
     "output_type": "execute_result"
    }
   ],
   "source": [
    "imagen = next(os.walk(data_dir))[2]\n",
    "imagen[0:5]"
   ]
  },
  {
   "cell_type": "code",
   "execution_count": 27,
   "metadata": {},
   "outputs": [
    {
     "data": {
      "text/plain": [
       "['6028499__posifoto1__qm2eBORaFws.jpg',\n",
       " '6028499__posifoto2__qm2eBhKxMHp.jpg',\n",
       " '6028499__posifoto3__qm2eAImwzo9.jpg',\n",
       " '6028499__posifoto4__qm2eAb5E1KX.jpg',\n",
       " '6028499__posifoto5__qm2eyj82lhX.jpg']"
      ]
     },
     "execution_count": 27,
     "metadata": {},
     "output_type": "execute_result"
    }
   ],
   "source": [
    "id_imagen = []\n",
    "for i in range(len(imagen)):\n",
    "    id_imagen = id_imagen + [imagen[i]]\n",
    "    \n",
    "id_imagen[0:5]"
   ]
  },
  {
   "cell_type": "code",
   "execution_count": 28,
   "metadata": {},
   "outputs": [
    {
     "data": {
      "text/plain": [
       "['6028499', '6028499', '6028499', '6028499', '6028499']"
      ]
     },
     "execution_count": 28,
     "metadata": {},
     "output_type": "execute_result"
    }
   ],
   "source": [
    "id_clien = []\n",
    "for i in range(len(imagen)):\n",
    "    id_clien = id_clien + [(imagen[i].split(\"__\")[0])]\n",
    "    \n",
    "id_clien[0:5]"
   ]
  },
  {
   "cell_type": "code",
   "execution_count": 29,
   "metadata": {},
   "outputs": [],
   "source": [
    "data_fotos = pd.DataFrame(id_clien,columns=['id'],dtype='int')"
   ]
  },
  {
   "cell_type": "code",
   "execution_count": 30,
   "metadata": {},
   "outputs": [],
   "source": [
    "data_fotos_aux = data_fotos.groupby(\"id\").agg({\"id\": \"count\"}).add_suffix('_count').reset_index().rename(\n",
    "    columns={'id':'ID','id_count' : 'NW_count_photos'})"
   ]
  },
  {
   "cell_type": "code",
   "execution_count": 31,
   "metadata": {},
   "outputs": [
    {
     "data": {
      "text/html": [
       "<div>\n",
       "<style scoped>\n",
       "    .dataframe tbody tr th:only-of-type {\n",
       "        vertical-align: middle;\n",
       "    }\n",
       "\n",
       "    .dataframe tbody tr th {\n",
       "        vertical-align: top;\n",
       "    }\n",
       "\n",
       "    .dataframe thead th {\n",
       "        text-align: right;\n",
       "    }\n",
       "</style>\n",
       "<table border=\"1\" class=\"dataframe\">\n",
       "  <thead>\n",
       "    <tr style=\"text-align: right;\">\n",
       "      <th></th>\n",
       "      <th>ID</th>\n",
       "      <th>NW_count_photos</th>\n",
       "    </tr>\n",
       "  </thead>\n",
       "  <tbody>\n",
       "    <tr>\n",
       "      <th>0</th>\n",
       "      <td>6028499</td>\n",
       "      <td>5</td>\n",
       "    </tr>\n",
       "    <tr>\n",
       "      <th>1</th>\n",
       "      <td>6028500</td>\n",
       "      <td>3</td>\n",
       "    </tr>\n",
       "    <tr>\n",
       "      <th>2</th>\n",
       "      <td>6028502</td>\n",
       "      <td>10</td>\n",
       "    </tr>\n",
       "    <tr>\n",
       "      <th>3</th>\n",
       "      <td>6028512</td>\n",
       "      <td>2</td>\n",
       "    </tr>\n",
       "    <tr>\n",
       "      <th>4</th>\n",
       "      <td>6028513</td>\n",
       "      <td>2</td>\n",
       "    </tr>\n",
       "  </tbody>\n",
       "</table>\n",
       "</div>"
      ],
      "text/plain": [
       "        ID  NW_count_photos\n",
       "0  6028499                5\n",
       "1  6028500                3\n",
       "2  6028502               10\n",
       "3  6028512                2\n",
       "4  6028513                2"
      ]
     },
     "execution_count": 31,
     "metadata": {},
     "output_type": "execute_result"
    }
   ],
   "source": [
    "data_fotos_aux.head()"
   ]
  },
  {
   "cell_type": "code",
   "execution_count": 32,
   "metadata": {},
   "outputs": [],
   "source": [
    "data = data.join(data_fotos_aux.set_index('ID'), on='HY_id', how='left')"
   ]
  },
  {
   "cell_type": "code",
   "execution_count": 33,
   "metadata": {},
   "outputs": [
    {
     "data": {
      "text/plain": [
       "10.0"
      ]
     },
     "execution_count": 33,
     "metadata": {},
     "output_type": "execute_result"
    }
   ],
   "source": [
    "data.NW_count_photos.max()"
   ]
  },
  {
   "cell_type": "code",
   "execution_count": 34,
   "metadata": {},
   "outputs": [],
   "source": [
    "data.NW_count_photos.fillna(0, inplace=True)"
   ]
  },
  {
   "cell_type": "code",
   "execution_count": 35,
   "metadata": {},
   "outputs": [
    {
     "data": {
      "text/html": [
       "<div>\n",
       "<style scoped>\n",
       "    .dataframe tbody tr th:only-of-type {\n",
       "        vertical-align: middle;\n",
       "    }\n",
       "\n",
       "    .dataframe tbody tr th {\n",
       "        vertical-align: top;\n",
       "    }\n",
       "\n",
       "    .dataframe thead th {\n",
       "        text-align: right;\n",
       "    }\n",
       "</style>\n",
       "<table border=\"1\" class=\"dataframe\">\n",
       "  <thead>\n",
       "    <tr style=\"text-align: right;\">\n",
       "      <th></th>\n",
       "      <th>HY_id</th>\n",
       "      <th>HY_cod_postal</th>\n",
       "      <th>HY_provincia</th>\n",
       "      <th>HY_descripcion</th>\n",
       "      <th>HY_distribucion</th>\n",
       "      <th>HY_tipo</th>\n",
       "      <th>HY_antiguedad</th>\n",
       "      <th>HY_metros_utiles</th>\n",
       "      <th>HY_metros_totales</th>\n",
       "      <th>HY_num_banos</th>\n",
       "      <th>...</th>\n",
       "      <th>GA_quincena_ini</th>\n",
       "      <th>GA_quincena_ult</th>\n",
       "      <th>TARGET</th>\n",
       "      <th>NW_precio_medio_CP</th>\n",
       "      <th>NW_ind_precio</th>\n",
       "      <th>NW_ind_oferta</th>\n",
       "      <th>NW_count_descrip</th>\n",
       "      <th>NW_ind_reforma</th>\n",
       "      <th>NW_habitaciones</th>\n",
       "      <th>NW_count_photos</th>\n",
       "    </tr>\n",
       "  </thead>\n",
       "  <tbody>\n",
       "    <tr>\n",
       "      <th>0</th>\n",
       "      <td>6028499</td>\n",
       "      <td>18151</td>\n",
       "      <td>18</td>\n",
       "      <td>Plaza de Garaje ubicada en la planta sótano de...</td>\n",
       "      <td>NaN</td>\n",
       "      <td>Garaje</td>\n",
       "      <td>NaN</td>\n",
       "      <td>30.364546</td>\n",
       "      <td>35.00</td>\n",
       "      <td>0.0</td>\n",
       "      <td>...</td>\n",
       "      <td>2</td>\n",
       "      <td>46</td>\n",
       "      <td>32.16</td>\n",
       "      <td>139433.333333</td>\n",
       "      <td>0.088214</td>\n",
       "      <td>0.000000</td>\n",
       "      <td>61.0</td>\n",
       "      <td>0.0</td>\n",
       "      <td>0.0</td>\n",
       "      <td>5.0</td>\n",
       "    </tr>\n",
       "    <tr>\n",
       "      <th>1</th>\n",
       "      <td>6028500</td>\n",
       "      <td>29915</td>\n",
       "      <td>29</td>\n",
       "      <td>NaN</td>\n",
       "      <td>NaN</td>\n",
       "      <td>Casa de pueblo</td>\n",
       "      <td>NaN</td>\n",
       "      <td>131.851534</td>\n",
       "      <td>151.98</td>\n",
       "      <td>2.0</td>\n",
       "      <td>...</td>\n",
       "      <td>1</td>\n",
       "      <td>47</td>\n",
       "      <td>30.71</td>\n",
       "      <td>115000.000000</td>\n",
       "      <td>1.000000</td>\n",
       "      <td>0.086956</td>\n",
       "      <td>0.0</td>\n",
       "      <td>0.0</td>\n",
       "      <td>1.0</td>\n",
       "      <td>3.0</td>\n",
       "    </tr>\n",
       "    <tr>\n",
       "      <th>2</th>\n",
       "      <td>6028502</td>\n",
       "      <td>3740</td>\n",
       "      <td>3</td>\n",
       "      <td>El inmueble(piso) se encuentra situado en el d...</td>\n",
       "      <td>VIVIENDA-PISO</td>\n",
       "      <td>Piso</td>\n",
       "      <td>2008.0</td>\n",
       "      <td>92.580000</td>\n",
       "      <td>102.78</td>\n",
       "      <td>1.0</td>\n",
       "      <td>...</td>\n",
       "      <td>1</td>\n",
       "      <td>47</td>\n",
       "      <td>63.48</td>\n",
       "      <td>84433.333333</td>\n",
       "      <td>1.042242</td>\n",
       "      <td>0.065139</td>\n",
       "      <td>36.0</td>\n",
       "      <td>0.0</td>\n",
       "      <td>1.0</td>\n",
       "      <td>10.0</td>\n",
       "    </tr>\n",
       "    <tr>\n",
       "      <th>3</th>\n",
       "      <td>6028512</td>\n",
       "      <td>30592</td>\n",
       "      <td>30</td>\n",
       "      <td>Plaza de garaje situada en la planta semisótan...</td>\n",
       "      <td>NaN</td>\n",
       "      <td>Garaje</td>\n",
       "      <td>NaN</td>\n",
       "      <td>11.810000</td>\n",
       "      <td>12.46</td>\n",
       "      <td>0.0</td>\n",
       "      <td>...</td>\n",
       "      <td>2</td>\n",
       "      <td>47</td>\n",
       "      <td>108.27</td>\n",
       "      <td>54895.000000</td>\n",
       "      <td>0.105656</td>\n",
       "      <td>0.000000</td>\n",
       "      <td>24.0</td>\n",
       "      <td>0.0</td>\n",
       "      <td>0.0</td>\n",
       "      <td>2.0</td>\n",
       "    </tr>\n",
       "    <tr>\n",
       "      <th>4</th>\n",
       "      <td>6028513</td>\n",
       "      <td>30592</td>\n",
       "      <td>30</td>\n",
       "      <td>Plaza de garaje situada en la planta semisótan...</td>\n",
       "      <td>NaN</td>\n",
       "      <td>Garaje</td>\n",
       "      <td>NaN</td>\n",
       "      <td>14.290000</td>\n",
       "      <td>15.43</td>\n",
       "      <td>0.0</td>\n",
       "      <td>...</td>\n",
       "      <td>2</td>\n",
       "      <td>39</td>\n",
       "      <td>7.50</td>\n",
       "      <td>54895.000000</td>\n",
       "      <td>0.134803</td>\n",
       "      <td>0.000000</td>\n",
       "      <td>24.0</td>\n",
       "      <td>0.0</td>\n",
       "      <td>0.0</td>\n",
       "      <td>2.0</td>\n",
       "    </tr>\n",
       "  </tbody>\n",
       "</table>\n",
       "<p>5 rows × 60 columns</p>\n",
       "</div>"
      ],
      "text/plain": [
       "     HY_id  HY_cod_postal  HY_provincia  \\\n",
       "0  6028499          18151            18   \n",
       "1  6028500          29915            29   \n",
       "2  6028502           3740             3   \n",
       "3  6028512          30592            30   \n",
       "4  6028513          30592            30   \n",
       "\n",
       "                                      HY_descripcion HY_distribucion  \\\n",
       "0  Plaza de Garaje ubicada en la planta sótano de...             NaN   \n",
       "1                                                NaN             NaN   \n",
       "2  El inmueble(piso) se encuentra situado en el d...   VIVIENDA-PISO   \n",
       "3  Plaza de garaje situada en la planta semisótan...             NaN   \n",
       "4  Plaza de garaje situada en la planta semisótan...             NaN   \n",
       "\n",
       "          HY_tipo  HY_antiguedad  HY_metros_utiles  HY_metros_totales  \\\n",
       "0          Garaje            NaN         30.364546              35.00   \n",
       "1  Casa de pueblo            NaN        131.851534             151.98   \n",
       "2            Piso         2008.0         92.580000             102.78   \n",
       "3          Garaje            NaN         11.810000              12.46   \n",
       "4          Garaje            NaN         14.290000              15.43   \n",
       "\n",
       "   HY_num_banos       ...         GA_quincena_ini  GA_quincena_ult  TARGET  \\\n",
       "0           0.0       ...                       2               46   32.16   \n",
       "1           2.0       ...                       1               47   30.71   \n",
       "2           1.0       ...                       1               47   63.48   \n",
       "3           0.0       ...                       2               47  108.27   \n",
       "4           0.0       ...                       2               39    7.50   \n",
       "\n",
       "   NW_precio_medio_CP  NW_ind_precio  NW_ind_oferta  NW_count_descrip  \\\n",
       "0       139433.333333       0.088214       0.000000              61.0   \n",
       "1       115000.000000       1.000000       0.086956               0.0   \n",
       "2        84433.333333       1.042242       0.065139              36.0   \n",
       "3        54895.000000       0.105656       0.000000              24.0   \n",
       "4        54895.000000       0.134803       0.000000              24.0   \n",
       "\n",
       "   NW_ind_reforma  NW_habitaciones  NW_count_photos  \n",
       "0             0.0              0.0              5.0  \n",
       "1             0.0              1.0              3.0  \n",
       "2             0.0              1.0             10.0  \n",
       "3             0.0              0.0              2.0  \n",
       "4             0.0              0.0              2.0  \n",
       "\n",
       "[5 rows x 60 columns]"
      ]
     },
     "execution_count": 35,
     "metadata": {},
     "output_type": "execute_result"
    }
   ],
   "source": [
    "data.head()"
   ]
  },
  {
   "cell_type": "code",
   "execution_count": 36,
   "metadata": {},
   "outputs": [
    {
     "name": "stdout",
     "output_type": "stream",
     "text": [
      "HY_id                                 0\n",
      "HY_cod_postal                         0\n",
      "HY_provincia                          0\n",
      "HY_descripcion                     3942\n",
      "HY_distribucion                    6745\n",
      "HY_tipo                               0\n",
      "HY_antiguedad                      5484\n",
      "HY_metros_utiles                      0\n",
      "HY_metros_totales                     0\n",
      "HY_num_banos                          0\n",
      "HY_cert_energ                         0\n",
      "HY_num_terrazas                       0\n",
      "HY_ascensor                           0\n",
      "HY_trastero                           0\n",
      "HY_num_garajes                        0\n",
      "HY_precio                             0\n",
      "HY_precio_anterior                    0\n",
      "IDEA_area                             0\n",
      "IDEA_poblacion                        0\n",
      "IDEA_densidad                         0\n",
      "IDEA_pc_1960                          0\n",
      "IDEA_pc_1960_69                       0\n",
      "IDEA_pc_1970_79                       0\n",
      "IDEA_pc_1980_89                       0\n",
      "IDEA_pc_1990_99                       0\n",
      "IDEA_pc_2000_10                       0\n",
      "IDEA_pc_comercio                      0\n",
      "IDEA_pc_industria                     0\n",
      "IDEA_pc_oficina                       0\n",
      "IDEA_pc_otros                         0\n",
      "IDEA_pc_residencial                   0\n",
      "IDEA_pc_trast_parking                 0\n",
      "IDEA_ind_tienda                       0\n",
      "IDEA_ind_turismo                      0\n",
      "IDEA_ind_alimentacion                 0\n",
      "IDEA_ind_riqueza                      0\n",
      "IDEA_rent_alquiler                    0\n",
      "IDEA_ind_elasticidad                  0\n",
      "IDEA_ind_liquidez                     0\n",
      "IDEA_unitprice_sale_residential       0\n",
      "IDEA_price_sale_residential           0\n",
      "IDEA_stock_sale_residential           0\n",
      "IDEA_demand_sale_residential          0\n",
      "IDEA_unitprice_rent_residential       0\n",
      "IDEA_price_rent_residential           0\n",
      "IDEA_stock_rent_residential           0\n",
      "IDEA_demand_rent_residential          0\n",
      "GA_page_views                         0\n",
      "GA_mean_bounce                        0\n",
      "GA_exit_rate                          0\n",
      "GA_quincena_ini                       0\n",
      "GA_quincena_ult                       0\n",
      "TARGET                                0\n",
      "NW_precio_medio_CP                    0\n",
      "NW_ind_precio                         0\n",
      "NW_ind_oferta                         0\n",
      "NW_count_descrip                      0\n",
      "NW_ind_reforma                        0\n",
      "NW_habitaciones                       0\n",
      "NW_count_photos                       0\n",
      "dtype: int64\n"
     ]
    }
   ],
   "source": [
    "print(data.isnull().sum())"
   ]
  },
  {
   "cell_type": "markdown",
   "metadata": {},
   "source": [
    "# Variables de entrada - datos"
   ]
  },
  {
   "cell_type": "code",
   "execution_count": 37,
   "metadata": {},
   "outputs": [
    {
     "name": "stdout",
     "output_type": "stream",
     "text": [
      "(9958, 1141)\n",
      "(9958, 1)\n"
     ]
    }
   ],
   "source": [
    "from sklearn import preprocessing \n",
    "x_data_cat1=to_categorical((data.iloc[:,1] // 1000),num_classes=52)\n",
    "x_data_cat2=to_categorical((data.iloc[:,1] % 1000),num_classes=999)\n",
    "encoder = LabelEncoder()\n",
    "encoder.fit(data.HY_tipo)\n",
    "x_data_cat3=to_categorical(encoder.transform(data.HY_tipo), num_classes = 20)\n",
    "x_data_cat4=to_categorical(data.HY_cert_energ)\n",
    "x_data_cat5=to_categorical(data.NW_count_photos, num_classes = 15)\n",
    "x_data_cat6=to_categorical(data.IDEA_ind_elasticidad, num_classes = 6)\n",
    "x_data_categorical = np.hstack((x_data_cat1, x_data_cat2, x_data_cat3, x_data_cat4, x_data_cat5, x_data_cat6))\n",
    "\n",
    "x_data_continuas=data.iloc[:,[7,8,9,11,12,13,14,15,16,17,18,19,20,21,22,23,24,25,26,27,28,29,30,31,32,33,34,35,36,38,39,40,41,42,43,44,45,46,47,48,49,50,51,53,54,55,56]]\n",
    "scaler = StandardScaler().fit(x_data_continuas)\n",
    "x_data_continuas = scaler.transform(x_data_continuas)\n",
    "\n",
    "x_data = np.hstack((x_data_categorical, x_data_continuas))\n",
    "print(x_data.shape)\n",
    "\n",
    "y_data = np.log1p(data.iloc[:,52:53])\n",
    "print(y_data.shape)"
   ]
  },
  {
   "cell_type": "code",
   "execution_count": 38,
   "metadata": {},
   "outputs": [],
   "source": [
    "f_train, f_test, y_train, y_test = train_test_split(x_data, y_data, test_size=0.20, random_state=42)"
   ]
  },
  {
   "cell_type": "markdown",
   "metadata": {},
   "source": [
    "# Modelo VAE - variables clientes"
   ]
  },
  {
   "cell_type": "code",
   "execution_count": 39,
   "metadata": {},
   "outputs": [
    {
     "name": "stdout",
     "output_type": "stream",
     "text": [
      "__________________________________________________________________________________________________\n",
      "Layer (type)                    Output Shape         Param #     Connected to                     \n",
      "==================================================================================================\n",
      "input_1 (InputLayer)            (None, 1141)         0                                            \n",
      "__________________________________________________________________________________________________\n",
      "dense_1 (Dense)                 (None, 256)          292352      input_1[0][0]                    \n",
      "__________________________________________________________________________________________________\n",
      "dense_2 (Dense)                 (None, 5)            1285        dense_1[0][0]                    \n",
      "__________________________________________________________________________________________________\n",
      "dense_3 (Dense)                 (None, 5)            1285        dense_1[0][0]                    \n",
      "__________________________________________________________________________________________________\n",
      "lambda_1 (Lambda)               (None, 5)            0           dense_2[0][0]                    \n",
      "                                                                 dense_3[0][0]                    \n",
      "__________________________________________________________________________________________________\n",
      "dense_4 (Dense)                 (None, 256)          1536        lambda_1[0][0]                   \n",
      "__________________________________________________________________________________________________\n",
      "dense_5 (Dense)                 (None, 1141)         293237      dense_4[0][0]                    \n",
      "==================================================================================================\n",
      "Total params: 589,695\n",
      "Trainable params: 589,695\n",
      "Non-trainable params: 0\n",
      "__________________________________________________________________________________________________\n"
     ]
    }
   ],
   "source": [
    "original_dim = x_data.shape[1]\n",
    "latent_dim = 5\n",
    "intermediate_dim = 256\n",
    "epsilon_std = 1.0\n",
    "\n",
    "x_feature = Input(shape=(original_dim,))\n",
    "h = Dense(intermediate_dim, activation='relu')(x_feature)\n",
    "z_mean_f = Dense(latent_dim)(h)\n",
    "z_log_var_f = Dense(latent_dim)(h)\n",
    "\n",
    "def sampling(args):\n",
    "    z_mean_f, z_log_var_f = args\n",
    "    epsilon = K.random_normal(shape=(K.shape(z_mean_f)[0], latent_dim), mean=0.,\n",
    "                              stddev=epsilon_std)\n",
    "    return z_mean_f + K.exp(z_log_var_f / 2) * epsilon\n",
    "\n",
    "# note that \"output_shape\" isn't necessary with the TensorFlow backend\n",
    "z = Lambda(sampling, output_shape=(latent_dim,))([z_mean_f, z_log_var_f])\n",
    "\n",
    "# we instantiate these layers separately so as to reuse them later\n",
    "decoder_h = Dense(intermediate_dim, activation='relu')\n",
    "decoder_mean = Dense(original_dim, activation='sigmoid')\n",
    "h_decoded = decoder_h(z)\n",
    "x_decoded_mean = decoder_mean(h_decoded)\n",
    "\n",
    "# instantiate VAE model\n",
    "vae_features = Model(x_feature, x_decoded_mean)\n",
    "\n",
    "# Compute VAE loss\n",
    "xent_loss = original_dim * metrics.binary_crossentropy(x_feature, x_decoded_mean)\n",
    "kl_loss = - 0.5 * K.sum(1 + z_log_var_f - K.square(z_mean_f) - K.exp(z_log_var_f), axis=-1)\n",
    "vae_loss = K.mean(xent_loss + kl_loss)\n",
    "\n",
    "vae_features.add_loss(vae_loss)\n",
    "vae_features.compile(optimizer='rmsprop')\n",
    "vae_features.summary()"
   ]
  },
  {
   "cell_type": "code",
   "execution_count": 40,
   "metadata": {},
   "outputs": [
    {
     "name": "stdout",
     "output_type": "stream",
     "text": [
      "\n",
      "Epoch 00001: val_loss improved from inf to -35.59574, saving model to autoencoder_model_vae_cajamar_completo_v10.h5\n",
      "\n",
      "Epoch 00002: val_loss improved from -35.59574 to -83.30158, saving model to autoencoder_model_vae_cajamar_completo_v10.h5\n",
      "\n",
      "Epoch 00003: val_loss improved from -83.30158 to -107.05458, saving model to autoencoder_model_vae_cajamar_completo_v10.h5\n",
      "\n",
      "Epoch 00004: val_loss improved from -107.05458 to -117.98651, saving model to autoencoder_model_vae_cajamar_completo_v10.h5\n",
      "\n",
      "Epoch 00005: val_loss improved from -117.98651 to -125.81385, saving model to autoencoder_model_vae_cajamar_completo_v10.h5\n",
      "\n",
      "Epoch 00006: val_loss improved from -125.81385 to -131.07824, saving model to autoencoder_model_vae_cajamar_completo_v10.h5\n",
      "\n",
      "Epoch 00007: val_loss improved from -131.07824 to -134.87502, saving model to autoencoder_model_vae_cajamar_completo_v10.h5\n",
      "\n",
      "Epoch 00008: val_loss improved from -134.87502 to -138.58323, saving model to autoencoder_model_vae_cajamar_completo_v10.h5\n",
      "\n",
      "Epoch 00009: val_loss improved from -138.58323 to -140.99910, saving model to autoencoder_model_vae_cajamar_completo_v10.h5\n",
      "\n",
      "Epoch 00010: val_loss improved from -140.99910 to -143.34656, saving model to autoencoder_model_vae_cajamar_completo_v10.h5\n",
      "\n",
      "Epoch 00011: val_loss improved from -143.34656 to -145.90226, saving model to autoencoder_model_vae_cajamar_completo_v10.h5\n",
      "\n",
      "Epoch 00012: val_loss improved from -145.90226 to -146.67793, saving model to autoencoder_model_vae_cajamar_completo_v10.h5\n",
      "\n",
      "Epoch 00013: val_loss improved from -146.67793 to -148.06270, saving model to autoencoder_model_vae_cajamar_completo_v10.h5\n",
      "\n",
      "Epoch 00014: val_loss improved from -148.06270 to -149.30577, saving model to autoencoder_model_vae_cajamar_completo_v10.h5\n",
      "\n",
      "Epoch 00015: val_loss improved from -149.30577 to -150.31986, saving model to autoencoder_model_vae_cajamar_completo_v10.h5\n",
      "\n",
      "Epoch 00016: val_loss improved from -150.31986 to -151.54460, saving model to autoencoder_model_vae_cajamar_completo_v10.h5\n",
      "\n",
      "Epoch 00017: val_loss improved from -151.54460 to -152.50939, saving model to autoencoder_model_vae_cajamar_completo_v10.h5\n",
      "\n",
      "Epoch 00018: val_loss improved from -152.50939 to -152.66082, saving model to autoencoder_model_vae_cajamar_completo_v10.h5\n",
      "\n",
      "Epoch 00019: val_loss improved from -152.66082 to -154.25226, saving model to autoencoder_model_vae_cajamar_completo_v10.h5\n",
      "\n",
      "Epoch 00020: val_loss improved from -154.25226 to -155.05370, saving model to autoencoder_model_vae_cajamar_completo_v10.h5\n",
      "\n",
      "Epoch 00021: val_loss improved from -155.05370 to -155.24963, saving model to autoencoder_model_vae_cajamar_completo_v10.h5\n",
      "\n",
      "Epoch 00022: val_loss improved from -155.24963 to -155.84657, saving model to autoencoder_model_vae_cajamar_completo_v10.h5\n",
      "\n",
      "Epoch 00023: val_loss did not improve from -155.84657\n",
      "\n",
      "Epoch 00024: val_loss did not improve from -155.84657\n",
      "\n",
      "Epoch 00025: val_loss improved from -155.84657 to -157.35559, saving model to autoencoder_model_vae_cajamar_completo_v10.h5\n",
      "\n",
      "Epoch 00026: val_loss improved from -157.35559 to -157.95821, saving model to autoencoder_model_vae_cajamar_completo_v10.h5\n",
      "\n",
      "Epoch 00027: val_loss did not improve from -157.95821\n",
      "\n",
      "Epoch 00028: val_loss improved from -157.95821 to -158.09368, saving model to autoencoder_model_vae_cajamar_completo_v10.h5\n",
      "\n",
      "Epoch 00029: val_loss improved from -158.09368 to -158.57447, saving model to autoencoder_model_vae_cajamar_completo_v10.h5\n",
      "\n",
      "Epoch 00030: val_loss improved from -158.57447 to -158.76615, saving model to autoencoder_model_vae_cajamar_completo_v10.h5\n",
      "\n",
      "Epoch 00031: val_loss improved from -158.76615 to -159.45386, saving model to autoencoder_model_vae_cajamar_completo_v10.h5\n",
      "\n",
      "Epoch 00032: val_loss did not improve from -159.45386\n",
      "\n",
      "Epoch 00033: val_loss improved from -159.45386 to -160.20664, saving model to autoencoder_model_vae_cajamar_completo_v10.h5\n",
      "\n",
      "Epoch 00034: val_loss improved from -160.20664 to -160.96024, saving model to autoencoder_model_vae_cajamar_completo_v10.h5\n",
      "\n",
      "Epoch 00035: val_loss did not improve from -160.96024\n",
      "\n",
      "Epoch 00036: val_loss did not improve from -160.96024\n",
      "\n",
      "Epoch 00037: val_loss did not improve from -160.96024\n",
      "\n",
      "Epoch 00038: val_loss did not improve from -160.96024\n",
      "\n",
      "Epoch 00039: val_loss did not improve from -160.96024\n",
      "\n",
      "Epoch 00040: val_loss did not improve from -160.96024\n",
      "\n",
      "Epoch 00041: val_loss improved from -160.96024 to -161.74497, saving model to autoencoder_model_vae_cajamar_completo_v10.h5\n",
      "\n",
      "Epoch 00042: val_loss did not improve from -161.74497\n",
      "\n",
      "Epoch 00043: val_loss did not improve from -161.74497\n",
      "\n",
      "Epoch 00044: val_loss improved from -161.74497 to -162.04910, saving model to autoencoder_model_vae_cajamar_completo_v10.h5\n",
      "\n",
      "Epoch 00045: val_loss did not improve from -162.04910\n",
      "\n",
      "Epoch 00046: val_loss improved from -162.04910 to -162.36354, saving model to autoencoder_model_vae_cajamar_completo_v10.h5\n",
      "\n",
      "Epoch 00047: val_loss did not improve from -162.36354\n",
      "\n",
      "Epoch 00048: val_loss did not improve from -162.36354\n",
      "\n",
      "Epoch 00049: val_loss improved from -162.36354 to -163.07033, saving model to autoencoder_model_vae_cajamar_completo_v10.h5\n",
      "\n",
      "Epoch 00050: val_loss did not improve from -163.07033\n",
      "\n",
      "Epoch 00051: val_loss improved from -163.07033 to -163.46785, saving model to autoencoder_model_vae_cajamar_completo_v10.h5\n",
      "\n",
      "Epoch 00052: val_loss did not improve from -163.46785\n",
      "\n",
      "Epoch 00053: val_loss did not improve from -163.46785\n",
      "\n",
      "Epoch 00054: val_loss improved from -163.46785 to -163.64690, saving model to autoencoder_model_vae_cajamar_completo_v10.h5\n",
      "\n",
      "Epoch 00055: val_loss did not improve from -163.64690\n",
      "\n",
      "Epoch 00056: val_loss improved from -163.64690 to -163.93827, saving model to autoencoder_model_vae_cajamar_completo_v10.h5\n",
      "\n",
      "Epoch 00057: val_loss improved from -163.93827 to -164.37151, saving model to autoencoder_model_vae_cajamar_completo_v10.h5\n",
      "\n",
      "Epoch 00058: val_loss did not improve from -164.37151\n",
      "\n",
      "Epoch 00059: val_loss did not improve from -164.37151\n",
      "\n",
      "Epoch 00060: val_loss did not improve from -164.37151\n",
      "\n",
      "Epoch 00061: val_loss did not improve from -164.37151\n",
      "\n",
      "Epoch 00062: val_loss did not improve from -164.37151\n",
      "\n",
      "Epoch 00063: val_loss improved from -164.37151 to -164.48990, saving model to autoencoder_model_vae_cajamar_completo_v10.h5\n",
      "\n",
      "Epoch 00064: val_loss did not improve from -164.48990\n",
      "\n",
      "Epoch 00065: val_loss did not improve from -164.48990\n",
      "\n",
      "Epoch 00066: val_loss did not improve from -164.48990\n",
      "\n",
      "Epoch 00067: val_loss improved from -164.48990 to -164.49239, saving model to autoencoder_model_vae_cajamar_completo_v10.h5\n",
      "\n",
      "Epoch 00068: val_loss improved from -164.49239 to -165.18978, saving model to autoencoder_model_vae_cajamar_completo_v10.h5\n",
      "\n",
      "Epoch 00069: val_loss did not improve from -165.18978\n",
      "\n",
      "Epoch 00070: val_loss did not improve from -165.18978\n",
      "\n",
      "Epoch 00071: val_loss did not improve from -165.18978\n",
      "\n",
      "Epoch 00072: val_loss did not improve from -165.18978\n",
      "\n",
      "Epoch 00073: val_loss did not improve from -165.18978\n",
      "\n",
      "Epoch 00074: val_loss did not improve from -165.18978\n",
      "\n",
      "Epoch 00075: val_loss did not improve from -165.18978\n",
      "\n",
      "Epoch 00076: val_loss did not improve from -165.18978\n",
      "\n",
      "Epoch 00077: val_loss did not improve from -165.18978\n",
      "\n",
      "Epoch 00078: val_loss did not improve from -165.18978\n",
      "\n",
      "Epoch 00079: val_loss did not improve from -165.18978\n",
      "\n",
      "Epoch 00080: val_loss did not improve from -165.18978\n",
      "\n",
      "Epoch 00081: val_loss did not improve from -165.18978\n",
      "\n",
      "Epoch 00082: val_loss did not improve from -165.18978\n",
      "\n",
      "Epoch 00083: val_loss improved from -165.18978 to -165.35417, saving model to autoencoder_model_vae_cajamar_completo_v10.h5\n",
      "\n",
      "Epoch 00084: val_loss did not improve from -165.35417\n",
      "\n",
      "Epoch 00085: val_loss did not improve from -165.35417\n",
      "\n",
      "Epoch 00086: val_loss did not improve from -165.35417\n",
      "\n",
      "Epoch 00087: val_loss did not improve from -165.35417\n",
      "\n",
      "Epoch 00088: val_loss did not improve from -165.35417\n",
      "\n",
      "Epoch 00089: val_loss did not improve from -165.35417\n",
      "\n",
      "Epoch 00090: val_loss did not improve from -165.35417\n",
      "\n",
      "Epoch 00091: val_loss did not improve from -165.35417\n",
      "\n",
      "Epoch 00092: val_loss did not improve from -165.35417\n",
      "\n",
      "Epoch 00093: val_loss did not improve from -165.35417\n",
      "\n",
      "Epoch 00094: val_loss did not improve from -165.35417\n",
      "\n",
      "Epoch 00095: val_loss did not improve from -165.35417\n",
      "\n"
     ]
    },
    {
     "name": "stdout",
     "output_type": "stream",
     "text": [
      "Epoch 00096: val_loss did not improve from -165.35417\n",
      "\n",
      "Epoch 00097: val_loss improved from -165.35417 to -165.73656, saving model to autoencoder_model_vae_cajamar_completo_v10.h5\n",
      "\n",
      "Epoch 00098: val_loss did not improve from -165.73656\n",
      "\n",
      "Epoch 00099: val_loss did not improve from -165.73656\n",
      "\n",
      "Epoch 00100: val_loss did not improve from -165.73656\n",
      "\n",
      "Epoch 00101: val_loss did not improve from -165.73656\n",
      "\n",
      "Epoch 00102: val_loss did not improve from -165.73656\n",
      "\n",
      "Epoch 00103: val_loss did not improve from -165.73656\n",
      "\n",
      "Epoch 00104: val_loss did not improve from -165.73656\n",
      "\n",
      "Epoch 00105: val_loss did not improve from -165.73656\n",
      "\n",
      "Epoch 00106: val_loss did not improve from -165.73656\n",
      "\n",
      "Epoch 00107: val_loss did not improve from -165.73656\n",
      "\n",
      "Epoch 00108: val_loss did not improve from -165.73656\n",
      "\n",
      "Epoch 00109: val_loss did not improve from -165.73656\n",
      "\n",
      "Epoch 00110: val_loss did not improve from -165.73656\n",
      "\n",
      "Epoch 00111: val_loss did not improve from -165.73656\n",
      "\n",
      "Epoch 00112: val_loss did not improve from -165.73656\n",
      "\n",
      "Epoch 00113: val_loss did not improve from -165.73656\n",
      "\n",
      "Epoch 00114: val_loss did not improve from -165.73656\n",
      "\n",
      "Epoch 00115: val_loss did not improve from -165.73656\n",
      "\n",
      "Epoch 00116: val_loss did not improve from -165.73656\n",
      "\n",
      "Epoch 00117: val_loss did not improve from -165.73656\n",
      "\n",
      "Epoch 00118: val_loss improved from -165.73656 to -166.18640, saving model to autoencoder_model_vae_cajamar_completo_v10.h5\n",
      "\n",
      "Epoch 00119: val_loss did not improve from -166.18640\n",
      "\n",
      "Epoch 00120: val_loss did not improve from -166.18640\n",
      "\n",
      "Epoch 00121: val_loss did not improve from -166.18640\n",
      "\n",
      "Epoch 00122: val_loss did not improve from -166.18640\n",
      "\n",
      "Epoch 00123: val_loss did not improve from -166.18640\n",
      "\n",
      "Epoch 00124: val_loss did not improve from -166.18640\n",
      "\n",
      "Epoch 00125: val_loss did not improve from -166.18640\n",
      "\n",
      "Epoch 00126: val_loss did not improve from -166.18640\n",
      "\n",
      "Epoch 00127: val_loss did not improve from -166.18640\n",
      "\n",
      "Epoch 00128: val_loss did not improve from -166.18640\n",
      "\n",
      "Epoch 00129: val_loss did not improve from -166.18640\n",
      "\n",
      "Epoch 00130: val_loss did not improve from -166.18640\n",
      "\n",
      "Epoch 00131: val_loss did not improve from -166.18640\n",
      "\n",
      "Epoch 00132: val_loss did not improve from -166.18640\n",
      "\n",
      "Epoch 00133: val_loss did not improve from -166.18640\n",
      "\n",
      "Epoch 00134: val_loss did not improve from -166.18640\n",
      "\n",
      "Epoch 00135: val_loss did not improve from -166.18640\n",
      "\n",
      "Epoch 00136: val_loss did not improve from -166.18640\n",
      "\n",
      "Epoch 00137: val_loss did not improve from -166.18640\n",
      "\n",
      "Epoch 00138: val_loss did not improve from -166.18640\n",
      "\n",
      "Epoch 00139: val_loss did not improve from -166.18640\n",
      "\n",
      "Epoch 00140: val_loss did not improve from -166.18640\n",
      "\n",
      "Epoch 00141: val_loss did not improve from -166.18640\n",
      "\n",
      "Epoch 00142: val_loss did not improve from -166.18640\n",
      "\n",
      "Epoch 00143: val_loss did not improve from -166.18640\n",
      "\n",
      "Epoch 00144: val_loss did not improve from -166.18640\n",
      "\n",
      "Epoch 00145: val_loss did not improve from -166.18640\n",
      "\n",
      "Epoch 00146: val_loss did not improve from -166.18640\n",
      "\n",
      "Epoch 00147: val_loss did not improve from -166.18640\n",
      "\n",
      "Epoch 00148: val_loss did not improve from -166.18640\n",
      "\n",
      "Epoch 00149: val_loss did not improve from -166.18640\n",
      "\n",
      "Epoch 00150: val_loss did not improve from -166.18640\n",
      "\n",
      "Epoch 00151: val_loss did not improve from -166.18640\n",
      "\n",
      "Epoch 00152: val_loss did not improve from -166.18640\n",
      "\n",
      "Epoch 00153: val_loss did not improve from -166.18640\n",
      "\n",
      "Epoch 00154: val_loss did not improve from -166.18640\n",
      "\n",
      "Epoch 00155: val_loss did not improve from -166.18640\n",
      "\n",
      "Epoch 00156: val_loss did not improve from -166.18640\n",
      "\n",
      "Epoch 00157: val_loss did not improve from -166.18640\n",
      "\n",
      "Epoch 00158: val_loss did not improve from -166.18640\n",
      "\n",
      "Epoch 00159: val_loss did not improve from -166.18640\n",
      "\n",
      "Epoch 00160: val_loss did not improve from -166.18640\n",
      "\n",
      "Epoch 00161: val_loss did not improve from -166.18640\n",
      "\n",
      "Epoch 00162: val_loss did not improve from -166.18640\n",
      "\n",
      "Epoch 00163: val_loss did not improve from -166.18640\n",
      "\n",
      "Epoch 00164: val_loss did not improve from -166.18640\n",
      "\n",
      "Epoch 00165: val_loss did not improve from -166.18640\n",
      "\n",
      "Epoch 00166: val_loss did not improve from -166.18640\n",
      "\n",
      "Epoch 00167: val_loss did not improve from -166.18640\n",
      "\n",
      "Epoch 00168: val_loss did not improve from -166.18640\n",
      "\n",
      "Epoch 00169: val_loss did not improve from -166.18640\n",
      "\n",
      "Epoch 00170: val_loss did not improve from -166.18640\n",
      "\n",
      "Epoch 00171: val_loss did not improve from -166.18640\n",
      "\n",
      "Epoch 00172: val_loss did not improve from -166.18640\n",
      "\n",
      "Epoch 00173: val_loss did not improve from -166.18640\n",
      "\n",
      "Epoch 00174: val_loss did not improve from -166.18640\n",
      "\n",
      "Epoch 00175: val_loss did not improve from -166.18640\n",
      "\n",
      "Epoch 00176: val_loss did not improve from -166.18640\n",
      "\n",
      "Epoch 00177: val_loss did not improve from -166.18640\n",
      "\n",
      "Epoch 00178: val_loss did not improve from -166.18640\n",
      "\n",
      "Epoch 00179: val_loss did not improve from -166.18640\n",
      "\n",
      "Epoch 00180: val_loss did not improve from -166.18640\n",
      "\n",
      "Epoch 00181: val_loss did not improve from -166.18640\n",
      "\n",
      "Epoch 00182: val_loss did not improve from -166.18640\n",
      "\n",
      "Epoch 00183: val_loss did not improve from -166.18640\n",
      "\n",
      "Epoch 00184: val_loss did not improve from -166.18640\n",
      "\n",
      "Epoch 00185: val_loss did not improve from -166.18640\n",
      "\n",
      "Epoch 00186: val_loss did not improve from -166.18640\n",
      "\n",
      "Epoch 00187: val_loss did not improve from -166.18640\n",
      "\n",
      "Epoch 00188: val_loss did not improve from -166.18640\n",
      "\n",
      "Epoch 00189: val_loss did not improve from -166.18640\n",
      "\n",
      "Epoch 00190: val_loss did not improve from -166.18640\n",
      "\n",
      "Epoch 00191: val_loss did not improve from -166.18640\n",
      "\n",
      "Epoch 00192: val_loss did not improve from -166.18640\n",
      "\n",
      "Epoch 00193: val_loss did not improve from -166.18640\n",
      "\n",
      "Epoch 00194: val_loss did not improve from -166.18640\n",
      "\n",
      "Epoch 00195: val_loss did not improve from -166.18640\n",
      "\n",
      "Epoch 00196: val_loss did not improve from -166.18640\n",
      "\n",
      "Epoch 00197: val_loss did not improve from -166.18640\n",
      "\n",
      "Epoch 00198: val_loss did not improve from -166.18640\n",
      "\n",
      "Epoch 00199: val_loss did not improve from -166.18640\n",
      "\n",
      "Epoch 00200: val_loss did not improve from -166.18640\n",
      "\n",
      "Epoch 00201: val_loss did not improve from -166.18640\n",
      "\n",
      "Epoch 00202: val_loss did not improve from -166.18640\n",
      "\n",
      "Epoch 00203: val_loss did not improve from -166.18640\n",
      "\n",
      "Epoch 00204: val_loss did not improve from -166.18640\n",
      "\n",
      "Epoch 00205: val_loss did not improve from -166.18640\n",
      "\n",
      "Epoch 00206: val_loss did not improve from -166.18640\n",
      "\n",
      "Epoch 00207: val_loss did not improve from -166.18640\n",
      "\n",
      "Epoch 00208: val_loss did not improve from -166.18640\n",
      "\n",
      "Epoch 00209: val_loss did not improve from -166.18640\n",
      "\n",
      "Epoch 00210: val_loss did not improve from -166.18640\n",
      "\n",
      "Epoch 00211: val_loss did not improve from -166.18640\n",
      "\n",
      "Epoch 00212: val_loss did not improve from -166.18640\n",
      "\n",
      "Epoch 00213: val_loss did not improve from -166.18640\n",
      "\n",
      "Epoch 00214: val_loss did not improve from -166.18640\n",
      "\n",
      "Epoch 00215: val_loss did not improve from -166.18640\n",
      "\n",
      "Epoch 00216: val_loss did not improve from -166.18640\n",
      "\n",
      "Epoch 00217: val_loss did not improve from -166.18640\n",
      "\n",
      "Epoch 00218: val_loss did not improve from -166.18640\n",
      "\n",
      "Epoch 00219: val_loss did not improve from -166.18640\n",
      "\n",
      "Epoch 00220: val_loss did not improve from -166.18640\n",
      "\n",
      "Epoch 00221: val_loss did not improve from -166.18640\n",
      "\n",
      "Epoch 00222: val_loss did not improve from -166.18640\n",
      "\n",
      "Epoch 00223: val_loss did not improve from -166.18640\n",
      "\n",
      "Epoch 00224: val_loss did not improve from -166.18640\n",
      "\n",
      "Epoch 00225: val_loss did not improve from -166.18640\n",
      "\n",
      "Epoch 00226: val_loss did not improve from -166.18640\n",
      "\n",
      "Epoch 00227: val_loss did not improve from -166.18640\n",
      "\n",
      "Epoch 00228: val_loss did not improve from -166.18640\n",
      "\n",
      "Epoch 00229: val_loss did not improve from -166.18640\n",
      "\n",
      "Epoch 00230: val_loss did not improve from -166.18640\n",
      "\n",
      "Epoch 00231: val_loss did not improve from -166.18640\n",
      "\n",
      "Epoch 00232: val_loss did not improve from -166.18640\n",
      "\n",
      "Epoch 00233: val_loss did not improve from -166.18640\n",
      "\n",
      "Epoch 00234: val_loss did not improve from -166.18640\n",
      "\n",
      "Epoch 00235: val_loss did not improve from -166.18640\n",
      "\n",
      "Epoch 00236: val_loss did not improve from -166.18640\n",
      "\n",
      "Epoch 00237: val_loss did not improve from -166.18640\n",
      "\n",
      "Epoch 00238: val_loss did not improve from -166.18640\n",
      "\n",
      "Epoch 00239: val_loss did not improve from -166.18640\n",
      "\n",
      "Epoch 00240: val_loss did not improve from -166.18640\n",
      "\n",
      "Epoch 00241: val_loss did not improve from -166.18640\n",
      "\n"
     ]
    },
    {
     "name": "stdout",
     "output_type": "stream",
     "text": [
      "Epoch 00242: val_loss did not improve from -166.18640\n",
      "\n",
      "Epoch 00243: val_loss did not improve from -166.18640\n",
      "\n",
      "Epoch 00244: val_loss did not improve from -166.18640\n",
      "\n",
      "Epoch 00245: val_loss did not improve from -166.18640\n",
      "\n",
      "Epoch 00246: val_loss did not improve from -166.18640\n",
      "\n",
      "Epoch 00247: val_loss did not improve from -166.18640\n",
      "\n",
      "Epoch 00248: val_loss did not improve from -166.18640\n",
      "\n",
      "Epoch 00249: val_loss did not improve from -166.18640\n",
      "\n",
      "Epoch 00250: val_loss did not improve from -166.18640\n"
     ]
    }
   ],
   "source": [
    "LOAD_MODEL = False\n",
    "batch_size = 64\n",
    "epochs = 250\n",
    "filepath=\"autoencoder_model_vae_cajamar_completo_v10.h5\" \n",
    "\n",
    "if not LOAD_MODEL:\n",
    "    checkpoint = ModelCheckpoint(filepath, monitor='val_loss', verbose=1,\n",
    "                                     save_best_only=True,\n",
    "                                     mode='min') # graba sólo los que mejoran en validación\n",
    "    \n",
    "    callbacks_list = [checkpoint]\n",
    "    \n",
    "    vae_features.fit(f_train,\n",
    "            shuffle=True,\n",
    "            epochs=epochs,\n",
    "            batch_size=batch_size,\n",
    "            callbacks = callbacks_list,\n",
    "            verbose=0,\n",
    "            validation_data=(f_test, None))\n",
    "    \n",
    "vae_features.save_weights('autoencoder_weights_vae_cajamar_completo_v10.h5')"
   ]
  },
  {
   "cell_type": "code",
   "execution_count": 41,
   "metadata": {},
   "outputs": [],
   "source": [
    "encoder_f = Model(x_feature, z_mean_f)"
   ]
  },
  {
   "cell_type": "code",
   "execution_count": 42,
   "metadata": {},
   "outputs": [],
   "source": [
    "client_rep_latente = encoder_f.predict(x_data, batch_size=batch_size)"
   ]
  },
  {
   "cell_type": "code",
   "execution_count": 43,
   "metadata": {},
   "outputs": [
    {
     "name": "stdout",
     "output_type": "stream",
     "text": [
      "(9958, 60)\n",
      "(9958, 5)\n",
      "[[ 1.5393128   0.64497924 -2.1700191   1.3554271  -0.89282954]]\n"
     ]
    }
   ],
   "source": [
    "print(data.shape)\n",
    "print(client_rep_latente.shape)\n",
    "print(client_rep_latente[0:1,])"
   ]
  },
  {
   "cell_type": "code",
   "execution_count": 44,
   "metadata": {},
   "outputs": [],
   "source": [
    "for i in range (client_rep_latente.shape[1]):\n",
    "    data[\"latente-{}\".format(i+1)] = client_rep_latente[:,i]"
   ]
  },
  {
   "cell_type": "code",
   "execution_count": 45,
   "metadata": {},
   "outputs": [
    {
     "data": {
      "text/plain": [
       "(9958, 65)"
      ]
     },
     "execution_count": 45,
     "metadata": {},
     "output_type": "execute_result"
    }
   ],
   "source": [
    "data.shape"
   ]
  },
  {
   "cell_type": "markdown",
   "metadata": {},
   "source": [
    "# Eliminar outliers y registros con target = 0 con una regla directa"
   ]
  },
  {
   "cell_type": "code",
   "execution_count": 46,
   "metadata": {},
   "outputs": [
    {
     "data": {
      "text/plain": [
       "(9608, 65)"
      ]
     },
     "execution_count": 46,
     "metadata": {},
     "output_type": "execute_result"
    }
   ],
   "source": [
    "from scipy import stats\n",
    "z = np.abs(stats.zscore(data.iloc[:,60:65]))\n",
    "data = data[(z < 3).all(axis=1)]\n",
    "data.shape"
   ]
  },
  {
   "cell_type": "code",
   "execution_count": 47,
   "metadata": {},
   "outputs": [
    {
     "data": {
      "text/plain": [
       "234    0.0\n",
       "290    0.0\n",
       "391    0.0\n",
       "530    0.0\n",
       "654    0.0\n",
       "Name: TARGET, dtype: float64"
      ]
     },
     "execution_count": 47,
     "metadata": {},
     "output_type": "execute_result"
    }
   ],
   "source": [
    "data.TARGET[((data['GA_page_views']<=10))&(data['GA_exit_rate']==100)|((data['GA_page_views']==0)&((data['GA_mean_bounce']==0)&(data['GA_exit_rate']==0)&(data['GA_quincena_ini']==data['GA_quincena_ult'])))].head()"
   ]
  },
  {
   "cell_type": "code",
   "execution_count": 48,
   "metadata": {},
   "outputs": [],
   "source": [
    "data = data[~(((data['GA_page_views']<=10))&(data['GA_exit_rate']==100)|((data['GA_page_views']==0)&((data['GA_mean_bounce']==0)&(data['GA_exit_rate']==0)&(data['GA_quincena_ini']==data['GA_quincena_ult']))))]"
   ]
  },
  {
   "cell_type": "code",
   "execution_count": 49,
   "metadata": {},
   "outputs": [
    {
     "data": {
      "text/plain": [
       "(9400, 65)"
      ]
     },
     "execution_count": 49,
     "metadata": {},
     "output_type": "execute_result"
    }
   ],
   "source": [
    "data.shape"
   ]
  },
  {
   "cell_type": "markdown",
   "metadata": {},
   "source": [
    "# Variables de entrada - imágenes"
   ]
  },
  {
   "cell_type": "code",
   "execution_count": 50,
   "metadata": {},
   "outputs": [],
   "source": [
    "data_dir = 'D:/MBIT-2017-18-Master-Deep-Learning/Reto - Cajamar - Febrero 2019/imagenes_inmuebles_haya'"
   ]
  },
  {
   "cell_type": "code",
   "execution_count": 51,
   "metadata": {},
   "outputs": [
    {
     "data": {
      "text/plain": [
       "(9400,)"
      ]
     },
     "execution_count": 51,
     "metadata": {},
     "output_type": "execute_result"
    }
   ],
   "source": [
    "clientes = data.HY_id.unique()\n",
    "clientes.shape"
   ]
  },
  {
   "cell_type": "code",
   "execution_count": 52,
   "metadata": {},
   "outputs": [
    {
     "data": {
      "text/plain": [
       "['6028499__posifoto1__qm2eBORaFws.jpg',\n",
       " '6028499__posifoto2__qm2eBhKxMHp.jpg',\n",
       " '6028499__posifoto3__qm2eAImwzo9.jpg',\n",
       " '6028499__posifoto4__qm2eAb5E1KX.jpg',\n",
       " '6028499__posifoto5__qm2eyj82lhX.jpg']"
      ]
     },
     "execution_count": 52,
     "metadata": {},
     "output_type": "execute_result"
    }
   ],
   "source": [
    "imagen = next(os.walk(data_dir))[2]\n",
    "imagen[0:5]"
   ]
  },
  {
   "cell_type": "code",
   "execution_count": 53,
   "metadata": {},
   "outputs": [
    {
     "name": "stdout",
     "output_type": "stream",
     "text": [
      "47381\n"
     ]
    }
   ],
   "source": [
    "print(len(imagen))"
   ]
  },
  {
   "cell_type": "code",
   "execution_count": 54,
   "metadata": {},
   "outputs": [
    {
     "data": {
      "text/plain": [
       "['6028499__posifoto1__qm2eBORaFws.jpg',\n",
       " '6028499__posifoto2__qm2eBhKxMHp.jpg',\n",
       " '6028499__posifoto3__qm2eAImwzo9.jpg',\n",
       " '6028499__posifoto4__qm2eAb5E1KX.jpg',\n",
       " '6028499__posifoto5__qm2eyj82lhX.jpg']"
      ]
     },
     "execution_count": 54,
     "metadata": {},
     "output_type": "execute_result"
    }
   ],
   "source": [
    "id_imagen = []\n",
    "for i in range(len(imagen)):\n",
    "    id_imagen = id_imagen + [imagen[i]]\n",
    "    \n",
    "id_imagen[0:5]"
   ]
  },
  {
   "cell_type": "code",
   "execution_count": 55,
   "metadata": {},
   "outputs": [
    {
     "data": {
      "text/plain": [
       "['posifoto1', 'posifoto2', 'posifoto3', 'posifoto4', 'posifoto5']"
      ]
     },
     "execution_count": 55,
     "metadata": {},
     "output_type": "execute_result"
    }
   ],
   "source": [
    "id_clien = []\n",
    "id_aux = []\n",
    "for i in range(len(imagen)):\n",
    "    id_clien = id_clien + [(imagen[i].split(\"__\")[0])]\n",
    "    id_aux = id_aux + [(imagen[i].split(\"__\")[1])]\n",
    "    \n",
    "id_aux[0:5]"
   ]
  },
  {
   "cell_type": "code",
   "execution_count": 56,
   "metadata": {},
   "outputs": [
    {
     "data": {
      "text/plain": [
       "['1', '2', '3', '4', '5']"
      ]
     },
     "execution_count": 56,
     "metadata": {},
     "output_type": "execute_result"
    }
   ],
   "source": [
    "id_posicion = []\n",
    "for i in range(len(imagen)):\n",
    "    id_posicion = id_posicion + [(id_aux[i].split(\"posifoto\")[1])]\n",
    "    \n",
    "id_posicion[0:5]"
   ]
  },
  {
   "cell_type": "code",
   "execution_count": 57,
   "metadata": {},
   "outputs": [],
   "source": [
    "data_img = pd.DataFrame(id_clien,columns=[\"id_clien\"])\n",
    "data_img[\"id_posicion\"] = id_posicion"
   ]
  },
  {
   "cell_type": "code",
   "execution_count": 58,
   "metadata": {},
   "outputs": [
    {
     "data": {
      "text/html": [
       "<div>\n",
       "<style scoped>\n",
       "    .dataframe tbody tr th:only-of-type {\n",
       "        vertical-align: middle;\n",
       "    }\n",
       "\n",
       "    .dataframe tbody tr th {\n",
       "        vertical-align: top;\n",
       "    }\n",
       "\n",
       "    .dataframe thead th {\n",
       "        text-align: right;\n",
       "    }\n",
       "</style>\n",
       "<table border=\"1\" class=\"dataframe\">\n",
       "  <thead>\n",
       "    <tr style=\"text-align: right;\">\n",
       "      <th></th>\n",
       "      <th>id_clien</th>\n",
       "      <th>id_posicion</th>\n",
       "    </tr>\n",
       "  </thead>\n",
       "  <tbody>\n",
       "    <tr>\n",
       "      <th>0</th>\n",
       "      <td>6028499</td>\n",
       "      <td>1</td>\n",
       "    </tr>\n",
       "    <tr>\n",
       "      <th>1</th>\n",
       "      <td>6028499</td>\n",
       "      <td>2</td>\n",
       "    </tr>\n",
       "    <tr>\n",
       "      <th>2</th>\n",
       "      <td>6028499</td>\n",
       "      <td>3</td>\n",
       "    </tr>\n",
       "    <tr>\n",
       "      <th>3</th>\n",
       "      <td>6028499</td>\n",
       "      <td>4</td>\n",
       "    </tr>\n",
       "    <tr>\n",
       "      <th>4</th>\n",
       "      <td>6028499</td>\n",
       "      <td>5</td>\n",
       "    </tr>\n",
       "  </tbody>\n",
       "</table>\n",
       "</div>"
      ],
      "text/plain": [
       "  id_clien id_posicion\n",
       "0  6028499           1\n",
       "1  6028499           2\n",
       "2  6028499           3\n",
       "3  6028499           4\n",
       "4  6028499           5"
      ]
     },
     "execution_count": 58,
     "metadata": {},
     "output_type": "execute_result"
    }
   ],
   "source": [
    "data_img.head()"
   ]
  },
  {
   "cell_type": "code",
   "execution_count": 59,
   "metadata": {},
   "outputs": [
    {
     "data": {
      "text/plain": [
       "<matplotlib.axes._subplots.AxesSubplot at 0x28a19c49860>"
      ]
     },
     "execution_count": 59,
     "metadata": {},
     "output_type": "execute_result"
    },
    {
     "data": {
      "image/png": "[encoded data removed]",
      "text/plain": [
       "<matplotlib.figure.Figure at 0x28a19c35c50>"
      ]
     },
     "metadata": {},
     "output_type": "display_data"
    }
   ],
   "source": [
    "data_img.id_posicion.hist()"
   ]
  },
  {
   "cell_type": "code",
   "execution_count": 60,
   "metadata": {},
   "outputs": [],
   "source": [
    "img = load_img(data_dir + \"/6028499__posifoto5__qm2eyj82lhX.jpg\")"
   ]
  },
  {
   "cell_type": "code",
   "execution_count": 61,
   "metadata": {},
   "outputs": [
    {
     "data": {
      "text/plain": [
       "<matplotlib.image.AxesImage at 0x28a1c6f0b38>"
      ]
     },
     "execution_count": 61,
     "metadata": {},
     "output_type": "execute_result"
    },
    {
     "data": {
      "image/png": "[encoded data removed]",
      "text/plain": [
       "<matplotlib.figure.Figure at 0x28a199a9358>"
      ]
     },
     "metadata": {},
     "output_type": "display_data"
    }
   ],
   "source": [
    "plt.imshow(img)"
   ]
  },
  {
   "cell_type": "code",
   "execution_count": 62,
   "metadata": {},
   "outputs": [],
   "source": [
    "im_width = 64\n",
    "im_height = 64\n",
    "im_chan = 3"
   ]
  },
  {
   "cell_type": "code",
   "execution_count": 63,
   "metadata": {},
   "outputs": [
    {
     "name": "stdout",
     "output_type": "stream",
     "text": [
      "Getting and resizing train images and masks ... \n",
      "Done!\n"
     ]
    }
   ],
   "source": [
    "# Get and resize train images and masks\n",
    "print('Getting and resizing train images and masks ... ')\n",
    "\n",
    "x_img = np.zeros((len(clientes), 3*im_height, 3*im_width, im_chan), dtype=np.uint8)\n",
    "\n",
    "for i in range (len(clientes)):\n",
    "    \n",
    "    basePath = os.path.sep.join([data_dir, \"{}_*\".format(clientes[i])])\n",
    "    housePaths = sorted(list(glob.glob(basePath)))\n",
    "    \n",
    "    outputImage = np.zeros((3*im_height, 3*im_width, im_chan), dtype=np.uint8)\n",
    "    \n",
    "    for n in housePaths:\n",
    "        image = cv2.imread(n)\n",
    "        image = cv2.resize(image, (im_height, im_height))\n",
    "        if n==1:\n",
    "            outputImage[0*im_height:1*im_height, 0*im_width:1*im_width] = image\n",
    "        elif n==2:\n",
    "            outputImage[0*im_height:1*im_height, 1*im_width:2*im_width] = image\n",
    "        elif n==3:\n",
    "            outputImage[0*im_height:1*im_height, 2*im_width:3*im_width] = image\n",
    "        elif n==4:\n",
    "            outputImage[1*im_height:2*im_height, 0*im_width:1*im_width] = image\n",
    "        elif n==5:\n",
    "            outputImage[1*im_height:2*im_height, 1*im_width:2*im_width] = image\n",
    "        elif n==6:\n",
    "            outputImage[1*im_height:2*im_height, 2*im_width:3*im_width] = image\n",
    "        elif n==7:\n",
    "            outputImage[2*im_height:3*im_height, 0*im_width:1*im_width] = image\n",
    "        elif n==8:\n",
    "            outputImage[2*im_height:3*im_height, 1*im_width:2*im_width] = image\n",
    "        elif n==9:\n",
    "            outputImage[2*im_height:3*im_height, 2*im_width:3*im_width] = image\n",
    "         \n",
    "    x_img[i] = outputImage\n",
    "\n",
    "print('Done!')"
   ]
  },
  {
   "cell_type": "code",
   "execution_count": 64,
   "metadata": {},
   "outputs": [
    {
     "name": "stdout",
     "output_type": "stream",
     "text": [
      "(9400, 192, 192, 3)\n"
     ]
    }
   ],
   "source": [
    "x_img = x_img / 255\n",
    "print(x_img.shape)"
   ]
  },
  {
   "cell_type": "code",
   "execution_count": 65,
   "metadata": {},
   "outputs": [
    {
     "name": "stdout",
     "output_type": "stream",
     "text": [
      "(9400, 1141)\n",
      "(9400, 1)\n"
     ]
    }
   ],
   "source": [
    "x_data_cat1=to_categorical((data.iloc[:,1] // 1000),num_classes=52)\n",
    "x_data_cat2=to_categorical((data.iloc[:,1] % 1000),num_classes=999)\n",
    "encoder = LabelEncoder()\n",
    "encoder.fit(data.HY_tipo)\n",
    "x_data_cat3=to_categorical(encoder.transform(data.HY_tipo), num_classes = 20)\n",
    "x_data_cat4=to_categorical(data.HY_cert_energ)\n",
    "x_data_cat5=to_categorical(data.NW_count_photos, num_classes = 15)\n",
    "x_data_cat6=to_categorical(data.IDEA_ind_elasticidad, num_classes = 6)\n",
    "x_data_categorical = np.hstack((x_data_cat1, x_data_cat2, x_data_cat3, x_data_cat4, x_data_cat5, x_data_cat6))\n",
    "\n",
    "x_data_continuas=data.iloc[:,[7,8,9,11,12,13,14,15,16,17,18,19,20,21,22,23,24,25,26,27,28,29,30,31,32,33,34,35,36,38,39,40,41,42,43,44,45,46,47,48,49,50,51,53,54,55,56]]\n",
    "scaler = StandardScaler().fit(x_data_continuas)\n",
    "x_data_continuas = scaler.transform(x_data_continuas)\n",
    "\n",
    "x_data = np.hstack((x_data_categorical, x_data_continuas))\n",
    "print(x_data.shape)\n",
    "\n",
    "y_data = np.log1p(data.iloc[:,52:53])\n",
    "print(y_data.shape)"
   ]
  },
  {
   "cell_type": "code",
   "execution_count": 66,
   "metadata": {},
   "outputs": [
    {
     "name": "stdout",
     "output_type": "stream",
     "text": [
      "(7520, 1141)\n",
      "(7520, 192, 192, 3)\n",
      "(7520, 1)\n"
     ]
    }
   ],
   "source": [
    "valfrac = 0.20\n",
    "cutpt = int(valfrac * x_data.shape[0])\n",
    "\n",
    "f_train, f_test = x_data[cutpt: , 0:], x_data[0:cutpt: , 0:]\n",
    "x_train, x_test = x_img[cutpt: , 0:], x_img[0:cutpt , 0:]\n",
    "y_train, y_test  = y_data.iloc[cutpt:, 0:], y_data.iloc[0:cutpt, 0:] \n",
    "\n",
    "print(f_train.shape)\n",
    "print(x_train.shape)\n",
    "print(y_train.shape)"
   ]
  },
  {
   "cell_type": "markdown",
   "metadata": {},
   "source": [
    "# Función de error"
   ]
  },
  {
   "cell_type": "code",
   "execution_count": 67,
   "metadata": {},
   "outputs": [],
   "source": [
    "import keras.backend as K\n",
    "\n",
    "def median_abs_error (y_true, y_pred):\n",
    "    return tf.contrib.distributions.percentile(K.abs(y_pred - y_true), q=50, axis=-1)"
   ]
  },
  {
   "cell_type": "markdown",
   "metadata": {},
   "source": [
    "# Definición de modelo VAE + CNN"
   ]
  },
  {
   "cell_type": "code",
   "execution_count": 68,
   "metadata": {},
   "outputs": [],
   "source": [
    "AE = Model(inputs=vae_features.input, outputs=vae_features.layers[-3].output)"
   ]
  },
  {
   "cell_type": "code",
   "execution_count": 69,
   "metadata": {},
   "outputs": [],
   "source": [
    "base_model = MobileNet(input_shape=(192, 192, 3), alpha=1., weights=None, include_top=False)\n",
    "x = base_model.output\n",
    "x = GlobalAveragePooling2D()(x)\n",
    "x = Dense(100, activation='relu')(x)\n",
    "x = Dense(50, activation='relu')(x)\n",
    "x = Dense(25, activation='relu')(x)\n",
    "x = Dropout(0.15)(x)\n",
    "top_model = Dense(5, activation='relu')(x)\n",
    "CNN = Model(inputs=base_model.input, outputs=top_model)"
   ]
  },
  {
   "cell_type": "code",
   "execution_count": 70,
   "metadata": {},
   "outputs": [],
   "source": [
    "combinedInput = concatenate([AE.output, CNN.output])"
   ]
  },
  {
   "cell_type": "code",
   "execution_count": 71,
   "metadata": {},
   "outputs": [],
   "source": [
    "y = Dense(25, activation=\"relu\")(combinedInput)\n",
    "y = Dense(10, activation=\"relu\")(y)\n",
    "y = Dense(5, activation=\"relu\")(y)\n",
    "y = Dropout(0.15)(y)\n",
    "y = Dense(1, activation=\"linear\")(y)"
   ]
  },
  {
   "cell_type": "code",
   "execution_count": 72,
   "metadata": {},
   "outputs": [],
   "source": [
    "full_model = Model(inputs=[AE.input, CNN.input], outputs=y)"
   ]
  },
  {
   "cell_type": "code",
   "execution_count": 73,
   "metadata": {},
   "outputs": [
    {
     "name": "stdout",
     "output_type": "stream",
     "text": [
      "104\n"
     ]
    }
   ],
   "source": [
    "#no entrenar las capas de la red pre - entrenada\n",
    "layer_num = len(full_model.layers)\n",
    "print(layer_num)\n",
    "\n",
    "#for layer in full_model.layers[:75]:\n",
    "#    layer.trainable = False\n",
    "\n",
    "#for layer in full_model.layers[75:]:\n",
    "#    layer.trainable = True"
   ]
  },
  {
   "cell_type": "code",
   "execution_count": 74,
   "metadata": {},
   "outputs": [
    {
     "name": "stdout",
     "output_type": "stream",
     "text": [
      "__________________________________________________________________________________________________\n",
      "Layer (type)                    Output Shape         Param #     Connected to                     \n",
      "==================================================================================================\n",
      "input_2 (InputLayer)            (None, 192, 192, 3)  0                                            \n",
      "__________________________________________________________________________________________________\n",
      "conv1_pad (ZeroPadding2D)       (None, 193, 193, 3)  0           input_2[0][0]                    \n",
      "__________________________________________________________________________________________________\n",
      "conv1 (Conv2D)                  (None, 96, 96, 32)   864         conv1_pad[0][0]                  \n",
      "__________________________________________________________________________________________________\n",
      "conv1_bn (BatchNormalization)   (None, 96, 96, 32)   128         conv1[0][0]                      \n",
      "__________________________________________________________________________________________________\n",
      "conv1_relu (ReLU)               (None, 96, 96, 32)   0           conv1_bn[0][0]                   \n",
      "__________________________________________________________________________________________________\n",
      "conv_dw_1 (DepthwiseConv2D)     (None, 96, 96, 32)   288         conv1_relu[0][0]                 \n",
      "__________________________________________________________________________________________________\n",
      "conv_dw_1_bn (BatchNormalizatio (None, 96, 96, 32)   128         conv_dw_1[0][0]                  \n",
      "__________________________________________________________________________________________________\n",
      "conv_dw_1_relu (ReLU)           (None, 96, 96, 32)   0           conv_dw_1_bn[0][0]               \n",
      "__________________________________________________________________________________________________\n",
      "conv_pw_1 (Conv2D)              (None, 96, 96, 64)   2048        conv_dw_1_relu[0][0]             \n",
      "__________________________________________________________________________________________________\n",
      "conv_pw_1_bn (BatchNormalizatio (None, 96, 96, 64)   256         conv_pw_1[0][0]                  \n",
      "__________________________________________________________________________________________________\n",
      "conv_pw_1_relu (ReLU)           (None, 96, 96, 64)   0           conv_pw_1_bn[0][0]               \n",
      "__________________________________________________________________________________________________\n",
      "conv_pad_2 (ZeroPadding2D)      (None, 97, 97, 64)   0           conv_pw_1_relu[0][0]             \n",
      "__________________________________________________________________________________________________\n",
      "conv_dw_2 (DepthwiseConv2D)     (None, 48, 48, 64)   576         conv_pad_2[0][0]                 \n",
      "__________________________________________________________________________________________________\n",
      "conv_dw_2_bn (BatchNormalizatio (None, 48, 48, 64)   256         conv_dw_2[0][0]                  \n",
      "__________________________________________________________________________________________________\n",
      "conv_dw_2_relu (ReLU)           (None, 48, 48, 64)   0           conv_dw_2_bn[0][0]               \n",
      "__________________________________________________________________________________________________\n",
      "conv_pw_2 (Conv2D)              (None, 48, 48, 128)  8192        conv_dw_2_relu[0][0]             \n",
      "__________________________________________________________________________________________________\n",
      "conv_pw_2_bn (BatchNormalizatio (None, 48, 48, 128)  512         conv_pw_2[0][0]                  \n",
      "__________________________________________________________________________________________________\n",
      "conv_pw_2_relu (ReLU)           (None, 48, 48, 128)  0           conv_pw_2_bn[0][0]               \n",
      "__________________________________________________________________________________________________\n",
      "conv_dw_3 (DepthwiseConv2D)     (None, 48, 48, 128)  1152        conv_pw_2_relu[0][0]             \n",
      "__________________________________________________________________________________________________\n",
      "conv_dw_3_bn (BatchNormalizatio (None, 48, 48, 128)  512         conv_dw_3[0][0]                  \n",
      "__________________________________________________________________________________________________\n",
      "conv_dw_3_relu (ReLU)           (None, 48, 48, 128)  0           conv_dw_3_bn[0][0]               \n",
      "__________________________________________________________________________________________________\n",
      "conv_pw_3 (Conv2D)              (None, 48, 48, 128)  16384       conv_dw_3_relu[0][0]             \n",
      "__________________________________________________________________________________________________\n",
      "conv_pw_3_bn (BatchNormalizatio (None, 48, 48, 128)  512         conv_pw_3[0][0]                  \n",
      "__________________________________________________________________________________________________\n",
      "conv_pw_3_relu (ReLU)           (None, 48, 48, 128)  0           conv_pw_3_bn[0][0]               \n",
      "__________________________________________________________________________________________________\n",
      "conv_pad_4 (ZeroPadding2D)      (None, 49, 49, 128)  0           conv_pw_3_relu[0][0]             \n",
      "__________________________________________________________________________________________________\n",
      "conv_dw_4 (DepthwiseConv2D)     (None, 24, 24, 128)  1152        conv_pad_4[0][0]                 \n",
      "__________________________________________________________________________________________________\n",
      "conv_dw_4_bn (BatchNormalizatio (None, 24, 24, 128)  512         conv_dw_4[0][0]                  \n",
      "__________________________________________________________________________________________________\n",
      "conv_dw_4_relu (ReLU)           (None, 24, 24, 128)  0           conv_dw_4_bn[0][0]               \n",
      "__________________________________________________________________________________________________\n",
      "conv_pw_4 (Conv2D)              (None, 24, 24, 256)  32768       conv_dw_4_relu[0][0]             \n",
      "__________________________________________________________________________________________________\n",
      "conv_pw_4_bn (BatchNormalizatio (None, 24, 24, 256)  1024        conv_pw_4[0][0]                  \n",
      "__________________________________________________________________________________________________\n",
      "conv_pw_4_relu (ReLU)           (None, 24, 24, 256)  0           conv_pw_4_bn[0][0]               \n",
      "__________________________________________________________________________________________________\n",
      "conv_dw_5 (DepthwiseConv2D)     (None, 24, 24, 256)  2304        conv_pw_4_relu[0][0]             \n",
      "__________________________________________________________________________________________________\n",
      "conv_dw_5_bn (BatchNormalizatio (None, 24, 24, 256)  1024        conv_dw_5[0][0]                  \n",
      "__________________________________________________________________________________________________\n",
      "conv_dw_5_relu (ReLU)           (None, 24, 24, 256)  0           conv_dw_5_bn[0][0]               \n",
      "__________________________________________________________________________________________________\n",
      "conv_pw_5 (Conv2D)              (None, 24, 24, 256)  65536       conv_dw_5_relu[0][0]             \n",
      "__________________________________________________________________________________________________\n",
      "conv_pw_5_bn (BatchNormalizatio (None, 24, 24, 256)  1024        conv_pw_5[0][0]                  \n",
      "__________________________________________________________________________________________________\n",
      "conv_pw_5_relu (ReLU)           (None, 24, 24, 256)  0           conv_pw_5_bn[0][0]               \n",
      "__________________________________________________________________________________________________\n",
      "conv_pad_6 (ZeroPadding2D)      (None, 25, 25, 256)  0           conv_pw_5_relu[0][0]             \n",
      "__________________________________________________________________________________________________\n",
      "conv_dw_6 (DepthwiseConv2D)     (None, 12, 12, 256)  2304        conv_pad_6[0][0]                 \n",
      "__________________________________________________________________________________________________\n",
      "conv_dw_6_bn (BatchNormalizatio (None, 12, 12, 256)  1024        conv_dw_6[0][0]                  \n"
     ]
    },
    {
     "name": "stdout",
     "output_type": "stream",
     "text": [
      "__________________________________________________________________________________________________\n",
      "conv_dw_6_relu (ReLU)           (None, 12, 12, 256)  0           conv_dw_6_bn[0][0]               \n",
      "__________________________________________________________________________________________________\n",
      "conv_pw_6 (Conv2D)              (None, 12, 12, 512)  131072      conv_dw_6_relu[0][0]             \n",
      "__________________________________________________________________________________________________\n",
      "conv_pw_6_bn (BatchNormalizatio (None, 12, 12, 512)  2048        conv_pw_6[0][0]                  \n",
      "__________________________________________________________________________________________________\n",
      "conv_pw_6_relu (ReLU)           (None, 12, 12, 512)  0           conv_pw_6_bn[0][0]               \n",
      "__________________________________________________________________________________________________\n",
      "conv_dw_7 (DepthwiseConv2D)     (None, 12, 12, 512)  4608        conv_pw_6_relu[0][0]             \n",
      "__________________________________________________________________________________________________\n",
      "conv_dw_7_bn (BatchNormalizatio (None, 12, 12, 512)  2048        conv_dw_7[0][0]                  \n",
      "__________________________________________________________________________________________________\n",
      "conv_dw_7_relu (ReLU)           (None, 12, 12, 512)  0           conv_dw_7_bn[0][0]               \n",
      "__________________________________________________________________________________________________\n",
      "conv_pw_7 (Conv2D)              (None, 12, 12, 512)  262144      conv_dw_7_relu[0][0]             \n",
      "__________________________________________________________________________________________________\n",
      "conv_pw_7_bn (BatchNormalizatio (None, 12, 12, 512)  2048        conv_pw_7[0][0]                  \n",
      "__________________________________________________________________________________________________\n",
      "conv_pw_7_relu (ReLU)           (None, 12, 12, 512)  0           conv_pw_7_bn[0][0]               \n",
      "__________________________________________________________________________________________________\n",
      "conv_dw_8 (DepthwiseConv2D)     (None, 12, 12, 512)  4608        conv_pw_7_relu[0][0]             \n",
      "__________________________________________________________________________________________________\n",
      "conv_dw_8_bn (BatchNormalizatio (None, 12, 12, 512)  2048        conv_dw_8[0][0]                  \n",
      "__________________________________________________________________________________________________\n",
      "conv_dw_8_relu (ReLU)           (None, 12, 12, 512)  0           conv_dw_8_bn[0][0]               \n",
      "__________________________________________________________________________________________________\n",
      "conv_pw_8 (Conv2D)              (None, 12, 12, 512)  262144      conv_dw_8_relu[0][0]             \n",
      "__________________________________________________________________________________________________\n",
      "conv_pw_8_bn (BatchNormalizatio (None, 12, 12, 512)  2048        conv_pw_8[0][0]                  \n",
      "__________________________________________________________________________________________________\n",
      "conv_pw_8_relu (ReLU)           (None, 12, 12, 512)  0           conv_pw_8_bn[0][0]               \n",
      "__________________________________________________________________________________________________\n",
      "conv_dw_9 (DepthwiseConv2D)     (None, 12, 12, 512)  4608        conv_pw_8_relu[0][0]             \n",
      "__________________________________________________________________________________________________\n",
      "conv_dw_9_bn (BatchNormalizatio (None, 12, 12, 512)  2048        conv_dw_9[0][0]                  \n",
      "__________________________________________________________________________________________________\n",
      "conv_dw_9_relu (ReLU)           (None, 12, 12, 512)  0           conv_dw_9_bn[0][0]               \n",
      "__________________________________________________________________________________________________\n",
      "conv_pw_9 (Conv2D)              (None, 12, 12, 512)  262144      conv_dw_9_relu[0][0]             \n",
      "__________________________________________________________________________________________________\n",
      "conv_pw_9_bn (BatchNormalizatio (None, 12, 12, 512)  2048        conv_pw_9[0][0]                  \n",
      "__________________________________________________________________________________________________\n",
      "conv_pw_9_relu (ReLU)           (None, 12, 12, 512)  0           conv_pw_9_bn[0][0]               \n",
      "__________________________________________________________________________________________________\n",
      "conv_dw_10 (DepthwiseConv2D)    (None, 12, 12, 512)  4608        conv_pw_9_relu[0][0]             \n",
      "__________________________________________________________________________________________________\n",
      "conv_dw_10_bn (BatchNormalizati (None, 12, 12, 512)  2048        conv_dw_10[0][0]                 \n",
      "__________________________________________________________________________________________________\n",
      "conv_dw_10_relu (ReLU)          (None, 12, 12, 512)  0           conv_dw_10_bn[0][0]              \n",
      "__________________________________________________________________________________________________\n",
      "conv_pw_10 (Conv2D)             (None, 12, 12, 512)  262144      conv_dw_10_relu[0][0]            \n",
      "__________________________________________________________________________________________________\n",
      "conv_pw_10_bn (BatchNormalizati (None, 12, 12, 512)  2048        conv_pw_10[0][0]                 \n",
      "__________________________________________________________________________________________________\n",
      "conv_pw_10_relu (ReLU)          (None, 12, 12, 512)  0           conv_pw_10_bn[0][0]              \n",
      "__________________________________________________________________________________________________\n",
      "conv_dw_11 (DepthwiseConv2D)    (None, 12, 12, 512)  4608        conv_pw_10_relu[0][0]            \n",
      "__________________________________________________________________________________________________\n",
      "conv_dw_11_bn (BatchNormalizati (None, 12, 12, 512)  2048        conv_dw_11[0][0]                 \n",
      "__________________________________________________________________________________________________\n",
      "conv_dw_11_relu (ReLU)          (None, 12, 12, 512)  0           conv_dw_11_bn[0][0]              \n",
      "__________________________________________________________________________________________________\n",
      "conv_pw_11 (Conv2D)             (None, 12, 12, 512)  262144      conv_dw_11_relu[0][0]            \n",
      "__________________________________________________________________________________________________\n",
      "conv_pw_11_bn (BatchNormalizati (None, 12, 12, 512)  2048        conv_pw_11[0][0]                 \n",
      "__________________________________________________________________________________________________\n",
      "conv_pw_11_relu (ReLU)          (None, 12, 12, 512)  0           conv_pw_11_bn[0][0]              \n",
      "__________________________________________________________________________________________________\n",
      "conv_pad_12 (ZeroPadding2D)     (None, 13, 13, 512)  0           conv_pw_11_relu[0][0]            \n",
      "__________________________________________________________________________________________________\n",
      "conv_dw_12 (DepthwiseConv2D)    (None, 6, 6, 512)    4608        conv_pad_12[0][0]                \n",
      "__________________________________________________________________________________________________\n",
      "conv_dw_12_bn (BatchNormalizati (None, 6, 6, 512)    2048        conv_dw_12[0][0]                 \n",
      "__________________________________________________________________________________________________\n",
      "conv_dw_12_relu (ReLU)          (None, 6, 6, 512)    0           conv_dw_12_bn[0][0]              \n",
      "__________________________________________________________________________________________________\n",
      "conv_pw_12 (Conv2D)             (None, 6, 6, 1024)   524288      conv_dw_12_relu[0][0]            \n",
      "__________________________________________________________________________________________________\n",
      "conv_pw_12_bn (BatchNormalizati (None, 6, 6, 1024)   4096        conv_pw_12[0][0]                 \n",
      "__________________________________________________________________________________________________\n",
      "conv_pw_12_relu (ReLU)          (None, 6, 6, 1024)   0           conv_pw_12_bn[0][0]              \n"
     ]
    },
    {
     "name": "stdout",
     "output_type": "stream",
     "text": [
      "__________________________________________________________________________________________________\n",
      "conv_dw_13 (DepthwiseConv2D)    (None, 6, 6, 1024)   9216        conv_pw_12_relu[0][0]            \n",
      "__________________________________________________________________________________________________\n",
      "conv_dw_13_bn (BatchNormalizati (None, 6, 6, 1024)   4096        conv_dw_13[0][0]                 \n",
      "__________________________________________________________________________________________________\n",
      "conv_dw_13_relu (ReLU)          (None, 6, 6, 1024)   0           conv_dw_13_bn[0][0]              \n",
      "__________________________________________________________________________________________________\n",
      "conv_pw_13 (Conv2D)             (None, 6, 6, 1024)   1048576     conv_dw_13_relu[0][0]            \n",
      "__________________________________________________________________________________________________\n",
      "conv_pw_13_bn (BatchNormalizati (None, 6, 6, 1024)   4096        conv_pw_13[0][0]                 \n",
      "__________________________________________________________________________________________________\n",
      "conv_pw_13_relu (ReLU)          (None, 6, 6, 1024)   0           conv_pw_13_bn[0][0]              \n",
      "__________________________________________________________________________________________________\n",
      "global_average_pooling2d_1 (Glo (None, 1024)         0           conv_pw_13_relu[0][0]            \n",
      "__________________________________________________________________________________________________\n",
      "dense_6 (Dense)                 (None, 100)          102500      global_average_pooling2d_1[0][0] \n",
      "__________________________________________________________________________________________________\n",
      "input_1 (InputLayer)            (None, 1141)         0                                            \n",
      "__________________________________________________________________________________________________\n",
      "dense_7 (Dense)                 (None, 50)           5050        dense_6[0][0]                    \n",
      "__________________________________________________________________________________________________\n",
      "dense_1 (Dense)                 (None, 256)          292352      input_1[0][0]                    \n",
      "__________________________________________________________________________________________________\n",
      "dense_8 (Dense)                 (None, 25)           1275        dense_7[0][0]                    \n",
      "__________________________________________________________________________________________________\n",
      "dense_2 (Dense)                 (None, 5)            1285        dense_1[0][0]                    \n",
      "__________________________________________________________________________________________________\n",
      "dense_3 (Dense)                 (None, 5)            1285        dense_1[0][0]                    \n",
      "__________________________________________________________________________________________________\n",
      "dropout_1 (Dropout)             (None, 25)           0           dense_8[0][0]                    \n",
      "__________________________________________________________________________________________________\n",
      "lambda_1 (Lambda)               (None, 5)            0           dense_2[0][0]                    \n",
      "                                                                 dense_3[0][0]                    \n",
      "__________________________________________________________________________________________________\n",
      "dense_9 (Dense)                 (None, 5)            130         dropout_1[0][0]                  \n",
      "__________________________________________________________________________________________________\n",
      "concatenate_1 (Concatenate)     (None, 10)           0           lambda_1[0][0]                   \n",
      "                                                                 dense_9[0][0]                    \n",
      "__________________________________________________________________________________________________\n",
      "dense_10 (Dense)                (None, 25)           275         concatenate_1[0][0]              \n",
      "__________________________________________________________________________________________________\n",
      "dense_11 (Dense)                (None, 10)           260         dense_10[0][0]                   \n",
      "__________________________________________________________________________________________________\n",
      "dense_12 (Dense)                (None, 5)            55          dense_11[0][0]                   \n",
      "__________________________________________________________________________________________________\n",
      "dropout_2 (Dropout)             (None, 5)            0           dense_12[0][0]                   \n",
      "__________________________________________________________________________________________________\n",
      "dense_13 (Dense)                (None, 1)            6           dropout_2[0][0]                  \n",
      "==================================================================================================\n",
      "Total params: 3,633,337\n",
      "Trainable params: 3,611,449\n",
      "Non-trainable params: 21,888\n",
      "__________________________________________________________________________________________________\n"
     ]
    }
   ],
   "source": [
    "full_model.compile(optimizer='RMSProp', loss=median_abs_error, metrics=[median_abs_error])\n",
    "full_model.summary()"
   ]
  },
  {
   "cell_type": "code",
   "execution_count": 75,
   "metadata": {},
   "outputs": [
    {
     "name": "stdout",
     "output_type": "stream",
     "text": [
      "\n",
      "Epoch 00001: val_median_abs_error improved from inf to 0.71866, saving model to cajamar_model_completo_v10.h5\n",
      "\n",
      "Epoch 00002: val_median_abs_error improved from 0.71866 to 0.60770, saving model to cajamar_model_completo_v10.h5\n",
      "\n",
      "Epoch 00003: val_median_abs_error did not improve from 0.60770\n",
      "\n",
      "Epoch 00004: val_median_abs_error did not improve from 0.60770\n",
      "\n",
      "Epoch 00005: val_median_abs_error improved from 0.60770 to 0.60086, saving model to cajamar_model_completo_v10.h5\n",
      "\n",
      "Epoch 00006: val_median_abs_error improved from 0.60086 to 0.57248, saving model to cajamar_model_completo_v10.h5\n",
      "\n",
      "Epoch 00007: val_median_abs_error improved from 0.57248 to 0.55557, saving model to cajamar_model_completo_v10.h5\n",
      "\n",
      "Epoch 00008: val_median_abs_error improved from 0.55557 to 0.54633, saving model to cajamar_model_completo_v10.h5\n",
      "\n",
      "Epoch 00009: val_median_abs_error improved from 0.54633 to 0.54514, saving model to cajamar_model_completo_v10.h5\n",
      "\n",
      "Epoch 00010: val_median_abs_error improved from 0.54514 to 0.53196, saving model to cajamar_model_completo_v10.h5\n",
      "\n",
      "Epoch 00011: val_median_abs_error did not improve from 0.53196\n",
      "\n",
      "Epoch 00012: val_median_abs_error did not improve from 0.53196\n",
      "\n",
      "Epoch 00013: val_median_abs_error did not improve from 0.53196\n",
      "\n",
      "Epoch 00014: val_median_abs_error did not improve from 0.53196\n",
      "\n",
      "Epoch 00015: val_median_abs_error did not improve from 0.53196\n",
      "\n",
      "Epoch 00016: val_median_abs_error did not improve from 0.53196\n",
      "\n",
      "Epoch 00017: val_median_abs_error did not improve from 0.53196\n",
      "\n",
      "Epoch 00018: val_median_abs_error did not improve from 0.53196\n",
      "\n",
      "Epoch 00019: val_median_abs_error did not improve from 0.53196\n",
      "\n",
      "Epoch 00020: val_median_abs_error did not improve from 0.53196\n",
      "\n",
      "Epoch 00020: ReduceLROnPlateau reducing learning rate to 0.00010000000474974513.\n",
      "\n",
      "Epoch 00021: val_median_abs_error did not improve from 0.53196\n",
      "\n",
      "Epoch 00022: val_median_abs_error did not improve from 0.53196\n",
      "\n",
      "Epoch 00023: val_median_abs_error did not improve from 0.53196\n",
      "\n",
      "Epoch 00024: val_median_abs_error did not improve from 0.53196\n",
      "\n",
      "Epoch 00025: val_median_abs_error did not improve from 0.53196\n",
      "Epoch 00025: early stopping\n"
     ]
    }
   ],
   "source": [
    "earlystopper = EarlyStopping(patience=15, verbose=1)\n",
    "reduce_lr = ReduceLROnPlateau(factor=0.1, patience=10, min_lr=0.00001, verbose=1)\n",
    "checkpointer = ModelCheckpoint('cajamar_model_completo_v10.h5', monitor='val_median_abs_error', verbose=1, save_best_only=True, mode='min')\n",
    "results = full_model.fit([f_train, x_train], y_train, validation_data=([f_test,x_test],y_test), batch_size=8, epochs=75, shuffle=True, verbose=0, callbacks=[checkpointer,earlystopper,reduce_lr])\n",
    "full_model = load_model('cajamar_model_completo_v10.h5', custom_objects={'median_abs_error': median_abs_error, 'latent_dim': latent_dim, 'epsilon_std': epsilon_std})\n",
    "full_model.save_weights('cajamar_weights_completo_v10.h5')"
   ]
  },
  {
   "cell_type": "code",
   "execution_count": 76,
   "metadata": {},
   "outputs": [],
   "source": [
    "full_model = load_model('cajamar_model_completo_v10.h5', custom_objects={'median_abs_error': median_abs_error, 'latent_dim': latent_dim, 'epsilon_std': epsilon_std})\n",
    "full_model.load_weights('cajamar_weights_completo_v10.h5')"
   ]
  },
  {
   "cell_type": "code",
   "execution_count": 77,
   "metadata": {},
   "outputs": [
    {
     "data": {
      "image/png": "[encoded data removed]",
      "text/plain": [
       "<matplotlib.figure.Figure at 0x28a5417cf98>"
      ]
     },
     "metadata": {},
     "output_type": "display_data"
    }
   ],
   "source": [
    "mae = results.history['median_abs_error']\n",
    "val_mae = results.history['val_median_abs_error']\n",
    "epochs = range(len(mae))\n",
    "plt.figure()\n",
    "plt.plot(epochs, mae, 'bo', label='Training mae')\n",
    "plt.plot(epochs, val_mae, 'r', label='Validation mae')\n",
    "plt.title('Training and validation mae')\n",
    "plt.legend()\n",
    "plt.show()\n"
   ]
  },
  {
   "cell_type": "code",
   "execution_count": 78,
   "metadata": {},
   "outputs": [],
   "source": [
    "y_pred_rnn = np.abs(full_model.predict([f_test,x_test]))"
   ]
  },
  {
   "cell_type": "code",
   "execution_count": 79,
   "metadata": {},
   "outputs": [
    {
     "name": "stdout",
     "output_type": "stream",
     "text": [
      "[[45.68422 ]\n",
      " [35.652824]\n",
      " [52.18699 ]\n",
      " [52.73039 ]\n",
      " [53.40481 ]\n",
      " [75.04676 ]\n",
      " [79.32472 ]\n",
      " [72.06437 ]\n",
      " [49.425087]\n",
      " [45.021347]]\n",
      "    TARGET\n",
      "0    32.16\n",
      "1    30.71\n",
      "2    63.48\n",
      "3   108.27\n",
      "4     7.50\n",
      "5    41.06\n",
      "6    43.17\n",
      "7    80.40\n",
      "9    42.74\n",
      "10   74.76\n"
     ]
    }
   ],
   "source": [
    "print(np.expm1(y_pred_rnn[0:10]))\n",
    "print(np.expm1(y_test[0:10]))"
   ]
  },
  {
   "cell_type": "code",
   "execution_count": 80,
   "metadata": {},
   "outputs": [
    {
     "data": {
      "text/plain": [
       "16.792744064331053"
      ]
     },
     "execution_count": 80,
     "metadata": {},
     "output_type": "execute_result"
    }
   ],
   "source": [
    "median_absolute_error(np.expm1(y_test), np.expm1(y_pred_rnn))"
   ]
  },
  {
   "cell_type": "code",
   "execution_count": 81,
   "metadata": {},
   "outputs": [],
   "source": [
    "y_pred_rnn_tot = np.abs(full_model.predict([x_data,x_img]))"
   ]
  },
  {
   "cell_type": "code",
   "execution_count": 82,
   "metadata": {},
   "outputs": [],
   "source": [
    "data[\"y_pred\"] = np.expm1(y_pred_rnn_tot)"
   ]
  },
  {
   "cell_type": "code",
   "execution_count": 83,
   "metadata": {},
   "outputs": [
    {
     "data": {
      "text/plain": [
       "17.351901245117187"
      ]
     },
     "execution_count": 83,
     "metadata": {},
     "output_type": "execute_result"
    }
   ],
   "source": [
    "median_absolute_error(data.TARGET, data.y_pred)"
   ]
  },
  {
   "cell_type": "markdown",
   "metadata": {},
   "source": [
    "# DIFERENCIAS DEL MEJOR MODELO"
   ]
  },
  {
   "cell_type": "code",
   "execution_count": 84,
   "metadata": {},
   "outputs": [],
   "source": [
    "diference = data.TARGET - data.y_pred\n",
    "data[\"diferencia\"] = diference"
   ]
  },
  {
   "cell_type": "code",
   "execution_count": 85,
   "metadata": {},
   "outputs": [
    {
     "data": {
      "text/html": [
       "<div>\n",
       "<style scoped>\n",
       "    .dataframe tbody tr th:only-of-type {\n",
       "        vertical-align: middle;\n",
       "    }\n",
       "\n",
       "    .dataframe tbody tr th {\n",
       "        vertical-align: top;\n",
       "    }\n",
       "\n",
       "    .dataframe thead th {\n",
       "        text-align: right;\n",
       "    }\n",
       "</style>\n",
       "<table border=\"1\" class=\"dataframe\">\n",
       "  <thead>\n",
       "    <tr style=\"text-align: right;\">\n",
       "      <th></th>\n",
       "      <th>TARGET</th>\n",
       "      <th>y_pred</th>\n",
       "      <th>diferencia</th>\n",
       "    </tr>\n",
       "  </thead>\n",
       "  <tbody>\n",
       "    <tr>\n",
       "      <th>0</th>\n",
       "      <td>32.16</td>\n",
       "      <td>45.683430</td>\n",
       "      <td>-13.523430</td>\n",
       "    </tr>\n",
       "    <tr>\n",
       "      <th>1</th>\n",
       "      <td>30.71</td>\n",
       "      <td>35.665409</td>\n",
       "      <td>-4.955409</td>\n",
       "    </tr>\n",
       "    <tr>\n",
       "      <th>2</th>\n",
       "      <td>63.48</td>\n",
       "      <td>52.073349</td>\n",
       "      <td>11.406651</td>\n",
       "    </tr>\n",
       "    <tr>\n",
       "      <th>3</th>\n",
       "      <td>108.27</td>\n",
       "      <td>52.293827</td>\n",
       "      <td>55.976173</td>\n",
       "    </tr>\n",
       "    <tr>\n",
       "      <th>4</th>\n",
       "      <td>7.50</td>\n",
       "      <td>53.231003</td>\n",
       "      <td>-45.731003</td>\n",
       "    </tr>\n",
       "  </tbody>\n",
       "</table>\n",
       "</div>"
      ],
      "text/plain": [
       "   TARGET     y_pred  diferencia\n",
       "0   32.16  45.683430  -13.523430\n",
       "1   30.71  35.665409   -4.955409\n",
       "2   63.48  52.073349   11.406651\n",
       "3  108.27  52.293827   55.976173\n",
       "4    7.50  53.231003  -45.731003"
      ]
     },
     "execution_count": 85,
     "metadata": {},
     "output_type": "execute_result"
    }
   ],
   "source": [
    "data.iloc[:,[52,-2,-1]].head()"
   ]
  },
  {
   "cell_type": "code",
   "execution_count": 86,
   "metadata": {},
   "outputs": [
    {
     "data": {
      "text/html": [
       "<div>\n",
       "<style scoped>\n",
       "    .dataframe tbody tr th:only-of-type {\n",
       "        vertical-align: middle;\n",
       "    }\n",
       "\n",
       "    .dataframe tbody tr th {\n",
       "        vertical-align: top;\n",
       "    }\n",
       "\n",
       "    .dataframe thead th {\n",
       "        text-align: right;\n",
       "    }\n",
       "</style>\n",
       "<table border=\"1\" class=\"dataframe\">\n",
       "  <thead>\n",
       "    <tr style=\"text-align: right;\">\n",
       "      <th></th>\n",
       "      <th>HY_id</th>\n",
       "      <th>HY_cod_postal</th>\n",
       "      <th>HY_provincia</th>\n",
       "      <th>HY_descripcion</th>\n",
       "      <th>HY_distribucion</th>\n",
       "      <th>HY_tipo</th>\n",
       "      <th>HY_antiguedad</th>\n",
       "      <th>HY_metros_utiles</th>\n",
       "      <th>HY_metros_totales</th>\n",
       "      <th>HY_num_banos</th>\n",
       "      <th>...</th>\n",
       "      <th>NW_ind_reforma</th>\n",
       "      <th>NW_habitaciones</th>\n",
       "      <th>NW_count_photos</th>\n",
       "      <th>latente-1</th>\n",
       "      <th>latente-2</th>\n",
       "      <th>latente-3</th>\n",
       "      <th>latente-4</th>\n",
       "      <th>latente-5</th>\n",
       "      <th>y_pred</th>\n",
       "      <th>diferencia</th>\n",
       "    </tr>\n",
       "  </thead>\n",
       "  <tbody>\n",
       "    <tr>\n",
       "      <th>176</th>\n",
       "      <td>6029324</td>\n",
       "      <td>46960</td>\n",
       "      <td>46</td>\n",
       "      <td>Plaza de garaje situada en la Calle Escultor M...</td>\n",
       "      <td>NaN</td>\n",
       "      <td>Garaje</td>\n",
       "      <td>2004.0</td>\n",
       "      <td>9.900000</td>\n",
       "      <td>23.84</td>\n",
       "      <td>0.0</td>\n",
       "      <td>...</td>\n",
       "      <td>0.0</td>\n",
       "      <td>0.0</td>\n",
       "      <td>3.0</td>\n",
       "      <td>1.397388</td>\n",
       "      <td>-1.186089</td>\n",
       "      <td>-0.185704</td>\n",
       "      <td>1.225464</td>\n",
       "      <td>-0.098649</td>\n",
       "      <td>41.127239</td>\n",
       "      <td>263.642761</td>\n",
       "    </tr>\n",
       "    <tr>\n",
       "      <th>184</th>\n",
       "      <td>6029429</td>\n",
       "      <td>29320</td>\n",
       "      <td>29</td>\n",
       "      <td>Plaza de garaje situada en la planta sótano de...</td>\n",
       "      <td>NaN</td>\n",
       "      <td>Garaje</td>\n",
       "      <td>2008.0</td>\n",
       "      <td>15.200000</td>\n",
       "      <td>16.25</td>\n",
       "      <td>0.0</td>\n",
       "      <td>...</td>\n",
       "      <td>0.0</td>\n",
       "      <td>0.0</td>\n",
       "      <td>7.0</td>\n",
       "      <td>0.379584</td>\n",
       "      <td>-1.386312</td>\n",
       "      <td>0.895763</td>\n",
       "      <td>-0.312567</td>\n",
       "      <td>0.462594</td>\n",
       "      <td>39.372398</td>\n",
       "      <td>323.957602</td>\n",
       "    </tr>\n",
       "    <tr>\n",
       "      <th>231</th>\n",
       "      <td>6029704</td>\n",
       "      <td>4569</td>\n",
       "      <td>4</td>\n",
       "      <td>Promoción de plazas de garaje situadas en un e...</td>\n",
       "      <td>NaN</td>\n",
       "      <td>Garaje</td>\n",
       "      <td>NaN</td>\n",
       "      <td>23.424078</td>\n",
       "      <td>27.00</td>\n",
       "      <td>0.0</td>\n",
       "      <td>...</td>\n",
       "      <td>0.0</td>\n",
       "      <td>0.0</td>\n",
       "      <td>1.0</td>\n",
       "      <td>0.938067</td>\n",
       "      <td>0.951892</td>\n",
       "      <td>0.781654</td>\n",
       "      <td>-1.858052</td>\n",
       "      <td>1.598811</td>\n",
       "      <td>15.766205</td>\n",
       "      <td>283.733795</td>\n",
       "    </tr>\n",
       "    <tr>\n",
       "      <th>347</th>\n",
       "      <td>6030324</td>\n",
       "      <td>42003</td>\n",
       "      <td>42</td>\n",
       "      <td>Promoción de plazas de garaje,  situadas en la...</td>\n",
       "      <td>NaN</td>\n",
       "      <td>Garaje</td>\n",
       "      <td>NaN</td>\n",
       "      <td>12.670000</td>\n",
       "      <td>25.00</td>\n",
       "      <td>0.0</td>\n",
       "      <td>...</td>\n",
       "      <td>0.0</td>\n",
       "      <td>0.0</td>\n",
       "      <td>1.0</td>\n",
       "      <td>3.995449</td>\n",
       "      <td>1.190807</td>\n",
       "      <td>1.460335</td>\n",
       "      <td>-0.346566</td>\n",
       "      <td>0.208551</td>\n",
       "      <td>40.483452</td>\n",
       "      <td>211.536548</td>\n",
       "    </tr>\n",
       "    <tr>\n",
       "      <th>377</th>\n",
       "      <td>6030461</td>\n",
       "      <td>26004</td>\n",
       "      <td>26</td>\n",
       "      <td>Promoción de plazas de garaje, situadas en un ...</td>\n",
       "      <td>La plazas de garaje disponen de una superficie...</td>\n",
       "      <td>Garaje</td>\n",
       "      <td>NaN</td>\n",
       "      <td>12.800000</td>\n",
       "      <td>25.60</td>\n",
       "      <td>0.0</td>\n",
       "      <td>...</td>\n",
       "      <td>0.0</td>\n",
       "      <td>0.0</td>\n",
       "      <td>7.0</td>\n",
       "      <td>1.553378</td>\n",
       "      <td>-0.062740</td>\n",
       "      <td>-0.464113</td>\n",
       "      <td>3.636465</td>\n",
       "      <td>-0.180300</td>\n",
       "      <td>38.354969</td>\n",
       "      <td>259.525031</td>\n",
       "    </tr>\n",
       "  </tbody>\n",
       "</table>\n",
       "<p>5 rows × 67 columns</p>\n",
       "</div>"
      ],
      "text/plain": [
       "       HY_id  HY_cod_postal  HY_provincia  \\\n",
       "176  6029324          46960            46   \n",
       "184  6029429          29320            29   \n",
       "231  6029704           4569             4   \n",
       "347  6030324          42003            42   \n",
       "377  6030461          26004            26   \n",
       "\n",
       "                                        HY_descripcion  \\\n",
       "176  Plaza de garaje situada en la Calle Escultor M...   \n",
       "184  Plaza de garaje situada en la planta sótano de...   \n",
       "231  Promoción de plazas de garaje situadas en un e...   \n",
       "347  Promoción de plazas de garaje,  situadas en la...   \n",
       "377  Promoción de plazas de garaje, situadas en un ...   \n",
       "\n",
       "                                       HY_distribucion HY_tipo  HY_antiguedad  \\\n",
       "176                                                NaN  Garaje         2004.0   \n",
       "184                                                NaN  Garaje         2008.0   \n",
       "231                                                NaN  Garaje            NaN   \n",
       "347                                                NaN  Garaje            NaN   \n",
       "377  La plazas de garaje disponen de una superficie...  Garaje            NaN   \n",
       "\n",
       "     HY_metros_utiles  HY_metros_totales  HY_num_banos     ...      \\\n",
       "176          9.900000              23.84           0.0     ...       \n",
       "184         15.200000              16.25           0.0     ...       \n",
       "231         23.424078              27.00           0.0     ...       \n",
       "347         12.670000              25.00           0.0     ...       \n",
       "377         12.800000              25.60           0.0     ...       \n",
       "\n",
       "     NW_ind_reforma  NW_habitaciones  NW_count_photos  latente-1  latente-2  \\\n",
       "176             0.0              0.0              3.0   1.397388  -1.186089   \n",
       "184             0.0              0.0              7.0   0.379584  -1.386312   \n",
       "231             0.0              0.0              1.0   0.938067   0.951892   \n",
       "347             0.0              0.0              1.0   3.995449   1.190807   \n",
       "377             0.0              0.0              7.0   1.553378  -0.062740   \n",
       "\n",
       "     latente-3  latente-4  latente-5     y_pred  diferencia  \n",
       "176  -0.185704   1.225464  -0.098649  41.127239  263.642761  \n",
       "184   0.895763  -0.312567   0.462594  39.372398  323.957602  \n",
       "231   0.781654  -1.858052   1.598811  15.766205  283.733795  \n",
       "347   1.460335  -0.346566   0.208551  40.483452  211.536548  \n",
       "377  -0.464113   3.636465  -0.180300  38.354969  259.525031  \n",
       "\n",
       "[5 rows x 67 columns]"
      ]
     },
     "execution_count": 86,
     "metadata": {},
     "output_type": "execute_result"
    }
   ],
   "source": [
    "data.loc[(np.abs(data['diferencia']) >= 200)].head()"
   ]
  },
  {
   "cell_type": "code",
   "execution_count": 87,
   "metadata": {},
   "outputs": [
    {
     "data": {
      "text/plain": [
       "<matplotlib.axes._subplots.AxesSubplot at 0x28a4eef0a20>"
      ]
     },
     "execution_count": 87,
     "metadata": {},
     "output_type": "execute_result"
    },
    {
     "data": {
      "image/png": "[encoded data removed]",
      "text/plain": [
       "<matplotlib.figure.Figure at 0x28a4e1a9400>"
      ]
     },
     "metadata": {},
     "output_type": "display_data"
    }
   ],
   "source": [
    "data['diferencia'].hist()"
   ]
  },
  {
   "cell_type": "code",
   "execution_count": 88,
   "metadata": {},
   "outputs": [],
   "source": [
    "data_train_viviendas = data.iloc[:,[0,52,-2]]"
   ]
  },
  {
   "cell_type": "code",
   "execution_count": 89,
   "metadata": {},
   "outputs": [
    {
     "data": {
      "text/html": [
       "<div>\n",
       "<style scoped>\n",
       "    .dataframe tbody tr th:only-of-type {\n",
       "        vertical-align: middle;\n",
       "    }\n",
       "\n",
       "    .dataframe tbody tr th {\n",
       "        vertical-align: top;\n",
       "    }\n",
       "\n",
       "    .dataframe thead th {\n",
       "        text-align: right;\n",
       "    }\n",
       "</style>\n",
       "<table border=\"1\" class=\"dataframe\">\n",
       "  <thead>\n",
       "    <tr style=\"text-align: right;\">\n",
       "      <th></th>\n",
       "      <th>HY_id</th>\n",
       "      <th>TARGET</th>\n",
       "      <th>y_pred</th>\n",
       "    </tr>\n",
       "  </thead>\n",
       "  <tbody>\n",
       "    <tr>\n",
       "      <th>0</th>\n",
       "      <td>6028499</td>\n",
       "      <td>32.16</td>\n",
       "      <td>45.683430</td>\n",
       "    </tr>\n",
       "    <tr>\n",
       "      <th>1</th>\n",
       "      <td>6028500</td>\n",
       "      <td>30.71</td>\n",
       "      <td>35.665409</td>\n",
       "    </tr>\n",
       "    <tr>\n",
       "      <th>2</th>\n",
       "      <td>6028502</td>\n",
       "      <td>63.48</td>\n",
       "      <td>52.073349</td>\n",
       "    </tr>\n",
       "    <tr>\n",
       "      <th>3</th>\n",
       "      <td>6028512</td>\n",
       "      <td>108.27</td>\n",
       "      <td>52.293827</td>\n",
       "    </tr>\n",
       "    <tr>\n",
       "      <th>4</th>\n",
       "      <td>6028513</td>\n",
       "      <td>7.50</td>\n",
       "      <td>53.231003</td>\n",
       "    </tr>\n",
       "  </tbody>\n",
       "</table>\n",
       "</div>"
      ],
      "text/plain": [
       "     HY_id  TARGET     y_pred\n",
       "0  6028499   32.16  45.683430\n",
       "1  6028500   30.71  35.665409\n",
       "2  6028502   63.48  52.073349\n",
       "3  6028512  108.27  52.293827\n",
       "4  6028513    7.50  53.231003"
      ]
     },
     "execution_count": 89,
     "metadata": {},
     "output_type": "execute_result"
    }
   ],
   "source": [
    "data_train_viviendas.head()"
   ]
  },
  {
   "cell_type": "code",
   "execution_count": 90,
   "metadata": {},
   "outputs": [],
   "source": [
    "data_train_viviendas.to_csv(\"D:/MBIT-2017-18-Master-Deep-Learning/Reto - Cajamar - Febrero 2019/Datasets_Reto_Modelling_UH2019/Qlabs_train_completo.txt\",index=False)"
   ]
  },
  {
   "cell_type": "markdown",
   "metadata": {},
   "source": [
    "# Resultados por tipo de inmueble"
   ]
  },
  {
   "cell_type": "code",
   "execution_count": 91,
   "metadata": {},
   "outputs": [
    {
     "data": {
      "text/plain": [
       "15.846080398559572"
      ]
     },
     "execution_count": 91,
     "metadata": {},
     "output_type": "execute_result"
    }
   ],
   "source": [
    "data_garaje = data.loc[(data['HY_tipo'] == 'Garaje')]\n",
    "median_absolute_error(data_garaje.TARGET, data_garaje.y_pred)"
   ]
  },
  {
   "cell_type": "code",
   "execution_count": 92,
   "metadata": {},
   "outputs": [
    {
     "data": {
      "text/plain": [
       "17.23802898406982"
      ]
     },
     "execution_count": 92,
     "metadata": {},
     "output_type": "execute_result"
    }
   ],
   "source": [
    "data_vivienda = data.loc[(data['HY_tipo'] == 'Casa de pueblo') | (data['HY_tipo'] == 'Chalet adosado') | (data['HY_tipo'] == 'Chalet independiente') | (data['HY_tipo'] == 'Chalet pareado') | (data['HY_tipo'] == 'Dúplex') | (data['HY_tipo'] == 'Ático') | (data['HY_tipo'] == 'Piso')]\n",
    "median_absolute_error(data_vivienda.TARGET, data_vivienda.y_pred)"
   ]
  },
  {
   "cell_type": "code",
   "execution_count": 93,
   "metadata": {},
   "outputs": [
    {
     "data": {
      "text/plain": [
       "20.633574371337893"
      ]
     },
     "execution_count": 93,
     "metadata": {},
     "output_type": "execute_result"
    }
   ],
   "source": [
    "data_resto = data.loc[~((data['HY_tipo'] == 'Garaje') | (data['HY_tipo'] == 'Casa de pueblo') | (data['HY_tipo'] == 'Chalet adosado') | (data['HY_tipo'] == 'Chalet independiente') | (data['HY_tipo'] == 'Chalet pareado') | (data['HY_tipo'] == 'Dúplex') | (data['HY_tipo'] == 'Ático') | (data['HY_tipo'] == 'Piso'))]\n",
    "median_absolute_error(data_resto.TARGET, data_resto.y_pred)"
   ]
  },
  {
   "cell_type": "code",
   "execution_count": 97,
   "metadata": {},
   "outputs": [],
   "source": [
    "data_train_base = data.iloc[:,0]"
   ]
  },
  {
   "cell_type": "code",
   "execution_count": 98,
   "metadata": {},
   "outputs": [],
   "source": [
    "data_train_base.to_csv(\"D:/MBIT-2017-18-Master-Deep-Learning/Reto - Cajamar - Febrero 2019/Datasets_Reto_Modelling_UH2019/Qlabs_train_base.txt\",index=False)"
   ]
  },
  {
   "cell_type": "markdown",
   "metadata": {},
   "source": [
    "# Resultado aplicando modelos por separado"
   ]
  },
  {
   "cell_type": "code",
   "execution_count": 99,
   "metadata": {},
   "outputs": [],
   "source": [
    "data_train_ETL_final = pd.read_csv(\"D:/MBIT-2017-18-Master-Deep-Learning/Reto - Cajamar - Febrero 2019/Datasets_Reto_Modelling_UH2019/Qlabs_train_ETL_final.txt\", sep=',',decimal=\".\")"
   ]
  },
  {
   "cell_type": "code",
   "execution_count": 100,
   "metadata": {},
   "outputs": [
    {
     "data": {
      "text/plain": [
       "14.237404000000002"
      ]
     },
     "execution_count": 100,
     "metadata": {},
     "output_type": "execute_result"
    }
   ],
   "source": [
    "median_absolute_error(data_train_ETL_final.TARGET, data_train_ETL_final.y_pred)"
   ]
  },
  {
   "cell_type": "code",
   "execution_count": null,
   "metadata": {},
   "outputs": [],
   "source": []
  }
 ],
 "metadata": {
  "kernelspec": {
   "display_name": "Python 3",
   "language": "python",
   "name": "python3"
  },
  "language_info": {
   "codemirror_mode": {
    "name": "ipython",
    "version": 3
   },
   "file_extension": ".py",
   "mimetype": "text/x-python",
   "name": "python",
   "nbconvert_exporter": "python",
   "pygments_lexer": "ipython3",
   "version": "3.6.4"
  }
 },
 "nbformat": 4,
 "nbformat_minor": 1
}
