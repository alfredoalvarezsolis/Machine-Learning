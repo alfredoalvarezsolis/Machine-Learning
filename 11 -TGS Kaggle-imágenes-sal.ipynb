{
 "cells": [
  {
   "cell_type": "markdown",
   "metadata": {},
   "source": [
    "# Autoencoder convolucional (VAE) - test"
   ]
  },
  {
   "cell_type": "code",
   "execution_count": 1,
   "metadata": {},
   "outputs": [
    {
     "name": "stderr",
     "output_type": "stream",
     "text": [
      "C:\\Users\\roberto\\Anaconda3\\lib\\site-packages\\h5py\\__init__.py:36: FutureWarning: Conversion of the second argument of issubdtype from `float` to `np.floating` is deprecated. In future, it will be treated as `np.float64 == np.dtype(float).type`.\n",
      "  from ._conv import register_converters as _register_converters\n",
      "Using TensorFlow backend.\n"
     ]
    }
   ],
   "source": [
    "from keras.preprocessing.image import ImageDataGenerator, load_img, img_to_array\n",
    "from keras.models import Sequential, load_model, Model\n",
    "from keras import layers\n",
    "from keras.layers import Activation, concatenate, merge, Dropout, Reshape, Flatten, Dense, Input, Lambda, Conv2D, UpSampling2D, MaxPooling2D, GlobalAveragePooling2D, GlobalAveragePooling3D, Conv2DTranspose\n",
    "from keras import backend as K\n",
    "from keras.callbacks import EarlyStopping, ModelCheckpoint,ReduceLROnPlateau, LearningRateScheduler\n",
    "from keras.applications import VGG16, VGG19, InceptionV3, Xception, resnet50\n",
    "from keras import losses\n",
    "\n",
    "from scipy.stats import norm\n",
    "import sklearn_extensions as ske\n",
    "from sklearn_extensions.fuzzy_kmeans import KMedians, FuzzyKMeans, KMeans\n",
    "\n",
    "import os\n",
    "import glob\n",
    "from keras import metrics\n",
    "from PIL import Image, ImageFilter\n",
    "import tensorflow as tf\n",
    "import cv2\n",
    "\n",
    "import sys\n",
    "from tqdm import tqdm_notebook\n",
    "from skimage.io import imread, imshow, concatenate_images\n",
    "from skimage.transform import resize\n",
    "from skimage.morphology import label\n",
    "from skimage import exposure\n",
    "from skimage import io\n",
    "import imageio\n",
    "from skimage.color import rgb2gray\n",
    "from skimage import exposure\n",
    "\n",
    "import matplotlib.pyplot as plt\n",
    "import numpy as np\n",
    "import pandas as pd\n",
    "import random\n",
    "import warnings\n",
    "\n",
    "from IPython.display import SVG\n",
    "from keras.utils.vis_utils import model_to_dot\n",
    "\n",
    "from sklearn.model_selection import train_test_split\n",
    "from sklearn.preprocessing import StandardScaler\n",
    "from sklearn.metrics import confusion_matrix, precision_score, recall_score, f1_score, cohen_kappa_score, accuracy_score\n",
    "from sklearn.metrics import classification_report, confusion_matrix, roc_curve, auc\n",
    "\n",
    "%matplotlib inline"
   ]
  },
  {
   "cell_type": "code",
   "execution_count": 2,
   "metadata": {},
   "outputs": [],
   "source": [
    "train_data_dir = 'D:/MBIT-2017-18-Master-Deep-Learning/Reto TGS Kaggle - imágenes con sal/test/images'"
   ]
  },
  {
   "cell_type": "code",
   "execution_count": 3,
   "metadata": {},
   "outputs": [
    {
     "data": {
      "text/plain": [
       "['0005bb9630.png',\n",
       " '000a68e46c.png',\n",
       " '000c8dfb2a.png',\n",
       " '000d0a5f6c.png',\n",
       " '001ef8fc87.png']"
      ]
     },
     "execution_count": 3,
     "metadata": {},
     "output_type": "execute_result"
    }
   ],
   "source": [
    "train_ids = next(os.walk(train_data_dir))[2]\n",
    "train_ids[0:5]"
   ]
  },
  {
   "cell_type": "code",
   "execution_count": 4,
   "metadata": {},
   "outputs": [
    {
     "data": {
      "text/plain": [
       "['0005bb9630', '000a68e46c', '000c8dfb2a', '000d0a5f6c', '001ef8fc87']"
      ]
     },
     "execution_count": 4,
     "metadata": {},
     "output_type": "execute_result"
    }
   ],
   "source": [
    "id_train = []\n",
    "for i in range(len(train_ids)):\n",
    "    id_train = id_train + [(train_ids[i].split(\".\")[0])]\n",
    "    \n",
    "id_train[0:5]"
   ]
  },
  {
   "cell_type": "code",
   "execution_count": 5,
   "metadata": {},
   "outputs": [],
   "source": [
    "data_train = pd.DataFrame(id_train,columns=[\"id\"])\n",
    "data_train[\"nombre\"] = train_ids"
   ]
  },
  {
   "cell_type": "code",
   "execution_count": 6,
   "metadata": {},
   "outputs": [
    {
     "data": {
      "text/html": [
       "<div>\n",
       "<style scoped>\n",
       "    .dataframe tbody tr th:only-of-type {\n",
       "        vertical-align: middle;\n",
       "    }\n",
       "\n",
       "    .dataframe tbody tr th {\n",
       "        vertical-align: top;\n",
       "    }\n",
       "\n",
       "    .dataframe thead th {\n",
       "        text-align: right;\n",
       "    }\n",
       "</style>\n",
       "<table border=\"1\" class=\"dataframe\">\n",
       "  <thead>\n",
       "    <tr style=\"text-align: right;\">\n",
       "      <th></th>\n",
       "      <th>id</th>\n",
       "      <th>nombre</th>\n",
       "    </tr>\n",
       "  </thead>\n",
       "  <tbody>\n",
       "    <tr>\n",
       "      <th>0</th>\n",
       "      <td>0005bb9630</td>\n",
       "      <td>0005bb9630.png</td>\n",
       "    </tr>\n",
       "    <tr>\n",
       "      <th>1</th>\n",
       "      <td>000a68e46c</td>\n",
       "      <td>000a68e46c.png</td>\n",
       "    </tr>\n",
       "    <tr>\n",
       "      <th>2</th>\n",
       "      <td>000c8dfb2a</td>\n",
       "      <td>000c8dfb2a.png</td>\n",
       "    </tr>\n",
       "    <tr>\n",
       "      <th>3</th>\n",
       "      <td>000d0a5f6c</td>\n",
       "      <td>000d0a5f6c.png</td>\n",
       "    </tr>\n",
       "    <tr>\n",
       "      <th>4</th>\n",
       "      <td>001ef8fc87</td>\n",
       "      <td>001ef8fc87.png</td>\n",
       "    </tr>\n",
       "  </tbody>\n",
       "</table>\n",
       "</div>"
      ],
      "text/plain": [
       "           id          nombre\n",
       "0  0005bb9630  0005bb9630.png\n",
       "1  000a68e46c  000a68e46c.png\n",
       "2  000c8dfb2a  000c8dfb2a.png\n",
       "3  000d0a5f6c  000d0a5f6c.png\n",
       "4  001ef8fc87  001ef8fc87.png"
      ]
     },
     "execution_count": 6,
     "metadata": {},
     "output_type": "execute_result"
    }
   ],
   "source": [
    "data_train.head()"
   ]
  },
  {
   "cell_type": "code",
   "execution_count": 7,
   "metadata": {},
   "outputs": [],
   "source": [
    "train_ids = next(os.walk(\"D:/MBIT-2017-18-Master-Deep-Learning/Reto TGS Kaggle - imágenes con sal/test/images/\"))[2]"
   ]
  },
  {
   "cell_type": "code",
   "execution_count": 8,
   "metadata": {},
   "outputs": [
    {
     "name": "stdout",
     "output_type": "stream",
     "text": [
      "18000\n"
     ]
    }
   ],
   "source": [
    "print(len(train_ids))\n"
   ]
  },
  {
   "cell_type": "code",
   "execution_count": 9,
   "metadata": {},
   "outputs": [
    {
     "data": {
      "image/png": "[encoded data removed]",
      "text/plain": [
       "<matplotlib.figure.Figure at 0x2485a6d2a58>"
      ]
     },
     "metadata": {},
     "output_type": "display_data"
    }
   ],
   "source": [
    "ids= train_ids[130:136]\n",
    "plt.figure(figsize=(20,10))\n",
    "for j, img_name in enumerate(ids):\n",
    "    q = j+1\n",
    "    img = load_img('D:/MBIT-2017-18-Master-Deep-Learning/Reto TGS Kaggle - imágenes con sal/test/images/' + img_name)\n",
    "    \n",
    "    plt.subplot(1,2*(1+len(ids)),q*2-1)\n",
    "    plt.title('image')\n",
    "    plt.imshow(img,)\n",
    "    \n",
    "plt.show()"
   ]
  },
  {
   "cell_type": "code",
   "execution_count": 10,
   "metadata": {},
   "outputs": [],
   "source": [
    "im_width = 128\n",
    "im_height = 128\n",
    "im_chan = 1"
   ]
  },
  {
   "cell_type": "code",
   "execution_count": 11,
   "metadata": {
    "scrolled": false
   },
   "outputs": [
    {
     "name": "stdout",
     "output_type": "stream",
     "text": [
      "Getting and resizing train images and masks ... \n"
     ]
    },
    {
     "data": {
      "application/vnd.jupyter.widget-view+json": {
       "model_id": "a44f4d3339f44214b59e7df73b3d56ed",
       "version_major": 2,
       "version_minor": 0
      },
      "text/html": [
       "<p>Failed to display Jupyter Widget of type <code>HBox</code>.</p>\n",
       "<p>\n",
       "  If you're reading this message in the Jupyter Notebook or JupyterLab Notebook, it may mean\n",
       "  that the widgets JavaScript is still loading. If this message persists, it\n",
       "  likely means that the widgets JavaScript library is either not installed or\n",
       "  not enabled. See the <a href=\"https://ipywidgets.readthedocs.io/en/stable/user_install.html\">Jupyter\n",
       "  Widgets Documentation</a> for setup instructions.\n",
       "</p>\n",
       "<p>\n",
       "  If you're reading this message in another frontend (for example, a static\n",
       "  rendering on GitHub or <a href=\"https://nbviewer.jupyter.org/\">NBViewer</a>),\n",
       "  it may mean that your frontend doesn't currently support widgets.\n",
       "</p>\n"
      ],
      "text/plain": [
       "HBox(children=(IntProgress(value=0, max=18000), HTML(value='')))"
      ]
     },
     "metadata": {},
     "output_type": "display_data"
    },
    {
     "name": "stdout",
     "output_type": "stream",
     "text": [
      "\n",
      "Done!\n"
     ]
    }
   ],
   "source": [
    "# Get and resize train images and masks\n",
    "X_train = np.zeros((len(train_ids), im_height, im_width, im_chan), dtype=np.uint8)\n",
    "Y_train = np.zeros((len(train_ids), im_height, im_width, 1), dtype=np.bool)\n",
    "print('Getting and resizing train images and masks ... ')\n",
    "sys.stdout.flush()\n",
    "for n, id_ in tqdm_notebook(enumerate(train_ids), total=len(train_ids)):\n",
    "    \n",
    "    img = load_img('D:/MBIT-2017-18-Master-Deep-Learning/Reto TGS Kaggle - imágenes con sal/test/images/' + id_) \n",
    "    x = img_to_array(img)[:,:,1]\n",
    "    x = resize(x, (im_height, im_width, im_chan), mode='constant', preserve_range=True)\n",
    "    X_train[n] = x\n",
    "    \n",
    "print('Done!')"
   ]
  },
  {
   "cell_type": "code",
   "execution_count": 12,
   "metadata": {},
   "outputs": [],
   "source": [
    "X_train = X_train / 255"
   ]
  },
  {
   "cell_type": "code",
   "execution_count": 13,
   "metadata": {},
   "outputs": [],
   "source": [
    "x_train, x_val, y_train, y_val = train_test_split(X_train, Y_train, test_size=0.25, random_state=42)"
   ]
  },
  {
   "cell_type": "code",
   "execution_count": 14,
   "metadata": {},
   "outputs": [
    {
     "name": "stderr",
     "output_type": "stream",
     "text": [
      "C:\\Users\\roberto\\Anaconda3\\lib\\site-packages\\ipykernel_launcher.py:105: UserWarning: Output \"conv2d_5\" missing from loss dictionary. We assume this was done on purpose, and we will not be expecting any data to be passed to \"conv2d_5\" during training.\n"
     ]
    }
   ],
   "source": [
    "# input image dimensions\n",
    "img_rows, img_cols, img_chns = 128, 128, 1\n",
    "# number of convolutional filters to use\n",
    "filters = 64\n",
    "# convolution kernel size\n",
    "num_conv = 3\n",
    "\n",
    "if K.image_data_format() == 'channels_first':\n",
    "    original_img_size = (img_chns, img_rows, img_cols)\n",
    "else:\n",
    "    original_img_size = (img_rows, img_cols, img_chns)\n",
    "latent_dim = 2\n",
    "intermediate_dim = 128\n",
    "epsilon_std = 1.0\n",
    "\n",
    "batch_size = 64\n",
    "epochs = 75\n",
    "\n",
    "x = Input(shape=original_img_size)\n",
    "conv_1 = Conv2D(img_chns,\n",
    "                kernel_size=(2, 2),\n",
    "                padding='same', activation='relu')(x)\n",
    "conv_2 = Conv2D(filters,\n",
    "                kernel_size=(2, 2),\n",
    "                padding='same', activation='relu',\n",
    "                strides=(2, 2))(conv_1)\n",
    "conv_3 = Conv2D(filters,\n",
    "                kernel_size=num_conv,\n",
    "                padding='same', activation='relu',\n",
    "                strides=1)(conv_2)\n",
    "conv_4 = Conv2D(filters,\n",
    "                kernel_size=num_conv,\n",
    "                padding='same', activation='relu',\n",
    "                strides=1)(conv_3)\n",
    "flat = Flatten()(conv_4)\n",
    "hidden = Dense(intermediate_dim, activation='relu')(flat)\n",
    "\n",
    "z_mean = Dense(latent_dim)(hidden)\n",
    "z_log_var = Dense(latent_dim)(hidden)\n",
    "\n",
    "\n",
    "def sampling(args):\n",
    "    z_mean, z_log_var = args\n",
    "    epsilon = K.random_normal(shape=(K.shape(z_mean)[0], latent_dim),\n",
    "                              mean=0., stddev=epsilon_std)\n",
    "    return z_mean + K.exp(z_log_var) * epsilon\n",
    "\n",
    "# note that \"output_shape\" isn't necessary with the TensorFlow backend\n",
    "# so you could write `Lambda(sampling)([z_mean, z_log_var])`\n",
    "z = Lambda(sampling, output_shape=(latent_dim,))([z_mean, z_log_var])\n",
    "\n",
    "# we instantiate these layers separately so as to reuse them later\n",
    "decoder_hid = Dense(intermediate_dim, activation='relu')\n",
    "decoder_upsample = Dense(filters * 64 * 64, activation='relu')\n",
    "\n",
    "if K.image_data_format() == 'channels_first':\n",
    "    output_shape = (batch_size, filters, 64, 64)\n",
    "else:\n",
    "    output_shape = (batch_size, 64, 64, filters)\n",
    "\n",
    "decoder_reshape = Reshape(output_shape[1:])\n",
    "decoder_deconv_1 = Conv2DTranspose(filters,\n",
    "                                   kernel_size=num_conv,\n",
    "                                   padding='same',\n",
    "                                   strides=1,\n",
    "                                   activation='relu')\n",
    "decoder_deconv_2 = Conv2DTranspose(filters,\n",
    "                                   kernel_size=num_conv,\n",
    "                                   padding='same',\n",
    "                                   strides=1,\n",
    "                                   activation='relu')\n",
    "if K.image_data_format() == 'channels_first':\n",
    "    output_shape = (batch_size, filters, 129, 129)\n",
    "else:\n",
    "    output_shape = (batch_size, 129, 129, filters)\n",
    "decoder_deconv_3_upsamp = Conv2DTranspose(filters,\n",
    "                                          kernel_size=(3, 3),\n",
    "                                          strides=(2, 2),\n",
    "                                          padding='valid',\n",
    "                                          activation='relu')\n",
    "decoder_mean_squash = Conv2D(img_chns,\n",
    "                             kernel_size=2,\n",
    "                             padding='valid',\n",
    "                             activation='sigmoid')\n",
    "\n",
    "hid_decoded = decoder_hid(z)\n",
    "up_decoded = decoder_upsample(hid_decoded)\n",
    "reshape_decoded = decoder_reshape(up_decoded)\n",
    "deconv_1_decoded = decoder_deconv_1(reshape_decoded)\n",
    "deconv_2_decoded = decoder_deconv_2(deconv_1_decoded)\n",
    "x_decoded_relu = decoder_deconv_3_upsamp(deconv_2_decoded)\n",
    "x_decoded_mean_squash = decoder_mean_squash(x_decoded_relu)\n",
    "\n",
    "# instantiate VAE model\n",
    "vae = Model(x, x_decoded_mean_squash)\n",
    "\n",
    "# define the loss function\n",
    "xent_loss = img_rows * img_cols * metrics.binary_crossentropy(\n",
    "    K.flatten(x),\n",
    "    K.flatten(x_decoded_mean_squash))\n",
    "kl_loss = - 0.5 * K.sum(1 + z_log_var - K.square(z_mean) - K.exp(z_log_var), axis=-1)\n",
    "vae_loss = K.mean(xent_loss + kl_loss)\n",
    "vae.add_loss(vae_loss)\n",
    "\n",
    "vae.compile(optimizer='rmsprop', metrics=['accuracy'])\n"
   ]
  },
  {
   "cell_type": "code",
   "execution_count": 15,
   "metadata": {},
   "outputs": [],
   "source": [
    "vae.load_weights('weights_VAE_TGS_v1.h5')"
   ]
  },
  {
   "cell_type": "code",
   "execution_count": 16,
   "metadata": {},
   "outputs": [],
   "source": [
    "encoder = Model(x, z_mean)"
   ]
  },
  {
   "cell_type": "code",
   "execution_count": 17,
   "metadata": {},
   "outputs": [
    {
     "data": {
      "image/png": "[encoded data removed]",
      "text/plain": [
       "<matplotlib.figure.Figure at 0x2485aa981d0>"
      ]
     },
     "metadata": {},
     "output_type": "display_data"
    }
   ],
   "source": [
    "x_latente = encoder.predict(X_train, batch_size=batch_size)\n",
    "plt.figure(figsize=(8, 8))\n",
    "plt.scatter(x_latente[:, 0], x_latente[:, 1])\n",
    "plt.show()"
   ]
  },
  {
   "cell_type": "code",
   "execution_count": 18,
   "metadata": {},
   "outputs": [],
   "source": [
    "data_train[\"x_lat\"] = x_latente[:, 0]\n",
    "data_train[\"y_lat\"] = x_latente[:, 1]"
   ]
  },
  {
   "cell_type": "code",
   "execution_count": 19,
   "metadata": {},
   "outputs": [],
   "source": [
    "data_latente = data_train.iloc[:,2:]"
   ]
  },
  {
   "cell_type": "code",
   "execution_count": 118,
   "metadata": {},
   "outputs": [
    {
     "data": {
      "text/plain": [
       "Text(0.5,1,'Elbow curve')"
      ]
     },
     "execution_count": 118,
     "metadata": {},
     "output_type": "execute_result"
    },
    {
     "data": {
      "image/png": "[encoded data removed]",
      "text/plain": [
       "<matplotlib.figure.Figure at 0x224b2c32ba8>"
      ]
     },
     "metadata": {},
     "output_type": "display_data"
    }
   ],
   "source": [
    "from sklearn.cluster import KMeans\n",
    "\n",
    "distorsions = []\n",
    "for k in range(1, 30):\n",
    "    kmeans = KMeans(n_clusters=k)\n",
    "    kmeans.fit(data_latente)\n",
    "    distorsions.append(kmeans.inertia_)\n",
    "\n",
    "fig = plt.figure(figsize=(15, 5))\n",
    "plt.plot(range(1, 30), distorsions)\n",
    "plt.grid(True)\n",
    "plt.title('Elbow curve')"
   ]
  },
  {
   "cell_type": "code",
   "execution_count": 20,
   "metadata": {},
   "outputs": [
    {
     "name": "stdout",
     "output_type": "stream",
     "text": [
      "[[1]\n",
      " [3]\n",
      " [4]\n",
      " ...\n",
      " [5]\n",
      " [1]\n",
      " [4]]\n"
     ]
    }
   ],
   "source": [
    "from sklearn.cluster import KMeans\n",
    "kmeans = KMeans(n_clusters=6, random_state=0).fit(data_latente)\n",
    "num_cluster = (kmeans.labels_.reshape(data_latente.shape[0],1)) + 1\n",
    "print(num_cluster)"
   ]
  },
  {
   "cell_type": "code",
   "execution_count": 21,
   "metadata": {},
   "outputs": [
    {
     "data": {
      "text/plain": [
       "<matplotlib.collections.PathCollection at 0x24824a547b8>"
      ]
     },
     "execution_count": 21,
     "metadata": {},
     "output_type": "execute_result"
    },
    {
     "data": {
      "image/png": "[encoded data removed]",
      "text/plain": [
       "<matplotlib.figure.Figure at 0x2485b0b4d30>"
      ]
     },
     "metadata": {},
     "output_type": "display_data"
    }
   ],
   "source": [
    "plt.scatter(data_latente.iloc[:,0],data_latente.iloc[:,1], c=kmeans.labels_, cmap='rainbow') "
   ]
  },
  {
   "cell_type": "code",
   "execution_count": 22,
   "metadata": {},
   "outputs": [],
   "source": [
    "data_train[\"cluster\"] = num_cluster"
   ]
  },
  {
   "cell_type": "code",
   "execution_count": 23,
   "metadata": {},
   "outputs": [
    {
     "data": {
      "text/html": [
       "<div>\n",
       "<style scoped>\n",
       "    .dataframe tbody tr th:only-of-type {\n",
       "        vertical-align: middle;\n",
       "    }\n",
       "\n",
       "    .dataframe tbody tr th {\n",
       "        vertical-align: top;\n",
       "    }\n",
       "\n",
       "    .dataframe thead th {\n",
       "        text-align: right;\n",
       "    }\n",
       "</style>\n",
       "<table border=\"1\" class=\"dataframe\">\n",
       "  <thead>\n",
       "    <tr style=\"text-align: right;\">\n",
       "      <th></th>\n",
       "      <th>id</th>\n",
       "      <th>nombre</th>\n",
       "      <th>x_lat</th>\n",
       "      <th>y_lat</th>\n",
       "      <th>cluster</th>\n",
       "    </tr>\n",
       "  </thead>\n",
       "  <tbody>\n",
       "    <tr>\n",
       "      <th>0</th>\n",
       "      <td>0005bb9630</td>\n",
       "      <td>0005bb9630.png</td>\n",
       "      <td>-0.126332</td>\n",
       "      <td>0.651734</td>\n",
       "      <td>1</td>\n",
       "    </tr>\n",
       "    <tr>\n",
       "      <th>1</th>\n",
       "      <td>000a68e46c</td>\n",
       "      <td>000a68e46c.png</td>\n",
       "      <td>-1.129966</td>\n",
       "      <td>-0.742243</td>\n",
       "      <td>3</td>\n",
       "    </tr>\n",
       "    <tr>\n",
       "      <th>2</th>\n",
       "      <td>000c8dfb2a</td>\n",
       "      <td>000c8dfb2a.png</td>\n",
       "      <td>0.113398</td>\n",
       "      <td>2.815214</td>\n",
       "      <td>4</td>\n",
       "    </tr>\n",
       "    <tr>\n",
       "      <th>3</th>\n",
       "      <td>000d0a5f6c</td>\n",
       "      <td>000d0a5f6c.png</td>\n",
       "      <td>0.231385</td>\n",
       "      <td>0.276118</td>\n",
       "      <td>5</td>\n",
       "    </tr>\n",
       "    <tr>\n",
       "      <th>4</th>\n",
       "      <td>001ef8fc87</td>\n",
       "      <td>001ef8fc87.png</td>\n",
       "      <td>0.087010</td>\n",
       "      <td>0.298943</td>\n",
       "      <td>5</td>\n",
       "    </tr>\n",
       "  </tbody>\n",
       "</table>\n",
       "</div>"
      ],
      "text/plain": [
       "           id          nombre     x_lat     y_lat  cluster\n",
       "0  0005bb9630  0005bb9630.png -0.126332  0.651734        1\n",
       "1  000a68e46c  000a68e46c.png -1.129966 -0.742243        3\n",
       "2  000c8dfb2a  000c8dfb2a.png  0.113398  2.815214        4\n",
       "3  000d0a5f6c  000d0a5f6c.png  0.231385  0.276118        5\n",
       "4  001ef8fc87  001ef8fc87.png  0.087010  0.298943        5"
      ]
     },
     "execution_count": 23,
     "metadata": {},
     "output_type": "execute_result"
    }
   ],
   "source": [
    "data_train.head()"
   ]
  },
  {
   "cell_type": "code",
   "execution_count": 24,
   "metadata": {},
   "outputs": [
    {
     "name": "stdout",
     "output_type": "stream",
     "text": [
      "Frequency of cluster:\n",
      "[[   1    2    3    4    5    6]\n",
      " [3867  442 3725 1259 8697   10]]\n"
     ]
    }
   ],
   "source": [
    "unique_elements, counts_elements = np.unique(num_cluster, return_counts=True)\n",
    "print(\"Frequency of cluster:\")\n",
    "print(np.asarray((unique_elements, counts_elements))) "
   ]
  },
  {
   "cell_type": "code",
   "execution_count": 25,
   "metadata": {},
   "outputs": [
    {
     "data": {
      "image/png": "[encoded data removed]",
      "text/plain": [
       "<matplotlib.figure.Figure at 0x24824c9e588>"
      ]
     },
     "metadata": {},
     "output_type": "display_data"
    }
   ],
   "source": [
    "import seaborn as sns\n",
    "import matplotlib.pyplot as plt\n",
    "%matplotlib inline\n",
    "\n",
    "facet = sns.lmplot(data=data_train, x='x_lat', y='y_lat', hue='cluster', fit_reg=False, legend=True, legend_out=True)"
   ]
  },
  {
   "cell_type": "code",
   "execution_count": 26,
   "metadata": {},
   "outputs": [],
   "source": [
    "c1 = data_train.loc[(data_train['cluster'] == 1)]\n",
    "c2 = data_train.loc[(data_train['cluster'] == 2)]\n",
    "c3 = data_train.loc[(data_train['cluster'] == 3)]\n",
    "c4 = data_train.loc[(data_train['cluster'] == 4)]\n",
    "c5 = data_train.loc[(data_train['cluster'] == 5)]\n",
    "c6 = data_train.loc[(data_train['cluster'] == 6)]\n",
    "\n",
    "c1.to_csv(\"D:/MBIT-2017-18-Master-Deep-Learning/Reto TGS Kaggle - imágenes con sal/ETL/TGS_test_c4.csv\",decimal=',',sep=';')\n",
    "c2.to_csv(\"D:/MBIT-2017-18-Master-Deep-Learning/Reto TGS Kaggle - imágenes con sal/ETL/TGS_test_c3.csv\",decimal=',',sep=';')\n",
    "c3.to_csv(\"D:/MBIT-2017-18-Master-Deep-Learning/Reto TGS Kaggle - imágenes con sal/ETL/TGS_test_c5.csv\",decimal=',',sep=';')\n",
    "c4.to_csv(\"D:/MBIT-2017-18-Master-Deep-Learning/Reto TGS Kaggle - imágenes con sal/ETL/TGS_test_c2.csv\",decimal=',',sep=';')\n",
    "c5.to_csv(\"D:/MBIT-2017-18-Master-Deep-Learning/Reto TGS Kaggle - imágenes con sal/ETL/TGS_test_c1.csv\",decimal=',',sep=';')\n",
    "c6.to_csv(\"D:/MBIT-2017-18-Master-Deep-Learning/Reto TGS Kaggle - imágenes con sal/ETL/TGS_test_c6.csv\",decimal=',',sep=';')\n",
    "\n",
    "data_train.to_csv(\"D:/MBIT-2017-18-Master-Deep-Learning/Reto TGS Kaggle - imágenes con sal/ETL/TGS_test_cluster.csv\",decimal=',',sep=';')"
   ]
  },
  {
   "cell_type": "code",
   "execution_count": null,
   "metadata": {},
   "outputs": [],
   "source": []
  }
 ],
 "metadata": {
  "kernelspec": {
   "display_name": "Python 3",
   "language": "python",
   "name": "python3"
  },
  "language_info": {
   "codemirror_mode": {
    "name": "ipython",
    "version": 3
   },
   "file_extension": ".py",
   "mimetype": "text/x-python",
   "name": "python",
   "nbconvert_exporter": "python",
   "pygments_lexer": "ipython3",
   "version": "3.6.4"
  }
 },
 "nbformat": 4,
 "nbformat_minor": 2
}
